{
  "cells": [
    {
      "cell_type": "markdown",
      "metadata": {
        "id": "view-in-github"
      },
      "source": [
        "<a href=\"https://colab.research.google.com/github/sergiomora03/AdvancedTopicsAnalytics/blob/main/exercises/P1-MovieGenrePrediction.ipynb\" target=\"_parent\"><img src=\"https://colab.research.google.com/assets/colab-badge.svg\" alt=\"Open In Colab\"/></a>"
      ]
    },
    {
      "cell_type": "markdown",
      "metadata": {
        "id": "Uk2LGOPynx_q"
      },
      "source": [
        "## Movie Genre Classification\n",
        "\n",
        "Classify a movie genre based on its plot.\n",
        "\n",
        "<img src=\"https://raw.githubusercontent.com/sergiomora03/AdvancedTopicsAnalytics/main/notebooks/img/moviegenre.png\"\n",
        "     style=\"float: left; margin-right: 10px;\" />\n",
        "\n",
        "\n",
        "\n",
        "### Data\n",
        "\n",
        "Input:\n",
        "- movie plot\n",
        "\n",
        "Output:\n",
        "Probability of the movie belong to each genre\n",
        "\n",
        "\n",
        "### Evaluation\n",
        "\n",
        "- 30% Report with all the details of the solution, the analysis and the conclusions. The report cannot exceed 10 pages, must be send in PDF format and must be self-contained.\n",
        "- 30% Code with the data processing and models developed that support the reported results.\n",
        "- 30% Presentation of no more than 15 minutes with the main results of the project.\n",
        "- 10% Model performance achieved. Metric: \"AUC\".\n",
        "\n",
        "• The project must be carried out in groups of 4 people.\n",
        "• Use clear and rigorous procedures.\n",
        "• The delivery of the project is on September 8th, 2023, 11:59 pm, through email.\n",
        "• No projects will be received after the delivery time or by any other means than the one established.\n",
        "\n",
        "\n",
        "\n",
        "\n",
        "### Acknowledgements\n",
        "\n",
        "We thank Professor Fabio Gonzalez, Ph.D. and his student John Arevalo for providing this dataset.\n",
        "\n",
        "See https://arxiv.org/abs/1702.01992"
      ]
    },
    {
      "cell_type": "markdown",
      "metadata": {
        "id": "VC9WLyERnx_s"
      },
      "source": [
        "## Sample Submission"
      ]
    },
    {
      "cell_type": "code",
      "execution_count": 1,
      "metadata": {
        "id": "5ziFq2aunx_s"
      },
      "outputs": [],
      "source": [
        "import pandas as pd\n",
        "import os\n",
        "import numpy as np\n",
        "from sklearn.feature_extraction.text import CountVectorizer, TfidfVectorizer\n",
        "from sklearn.preprocessing import MultiLabelBinarizer\n",
        "from sklearn.multiclass import OneVsRestClassifier\n",
        "from sklearn.ensemble import RandomForestRegressor, RandomForestClassifier\n",
        "from sklearn.metrics import r2_score, roc_auc_score\n",
        "from sklearn.model_selection import train_test_split"
      ]
    },
    {
      "cell_type": "code",
      "execution_count": 2,
      "metadata": {
        "id": "m3hJnPBWnx_t"
      },
      "outputs": [],
      "source": [
        "dataTraining = pd.read_csv('https://github.com/sergiomora03/AdvancedTopicsAnalytics/raw/main/datasets/dataTraining.zip', encoding='UTF-8', index_col=0)\n",
        "dataTesting = pd.read_csv('https://github.com/sergiomora03/AdvancedTopicsAnalytics/raw/main/datasets/dataTesting.zip', encoding='UTF-8', index_col=0)"
      ]
    },
    {
      "cell_type": "code",
      "execution_count": 3,
      "metadata": {
        "colab": {
          "base_uri": "https://localhost:8080/",
          "height": 0
        },
        "id": "KjaVaw8Tnx_u",
        "outputId": "ed8d8f50-d2d9-429f-a3a8-848ec1038fa1"
      },
      "outputs": [
        {
          "output_type": "execute_result",
          "data": {
            "text/plain": [
              "      year                      title  \\\n",
              "3107  2003                       Most   \n",
              "900   2008  How to Be a Serial Killer   \n",
              "6724  1941             A Woman's Face   \n",
              "4704  1954            Executive Suite   \n",
              "2582  1990              Narrow Margin   \n",
              "\n",
              "                                                   plot  \\\n",
              "3107  most is the story of a single father who takes...   \n",
              "900   a serial killer decides to teach the secrets o...   \n",
              "6724  in sweden ,  a female blackmailer with a disfi...   \n",
              "4704  in a friday afternoon in new york ,  the presi...   \n",
              "2582  in los angeles ,  the editor of a publishing h...   \n",
              "\n",
              "                                  genres  rating  \n",
              "3107                  ['Short', 'Drama']     8.0  \n",
              "900        ['Comedy', 'Crime', 'Horror']     5.6  \n",
              "6724  ['Drama', 'Film-Noir', 'Thriller']     7.2  \n",
              "4704                           ['Drama']     7.4  \n",
              "2582     ['Action', 'Crime', 'Thriller']     6.6  "
            ],
            "text/html": [
              "\n",
              "  <div id=\"df-eca05007-9bcf-49c7-94bc-41d6d4d8a474\" class=\"colab-df-container\">\n",
              "    <div>\n",
              "<style scoped>\n",
              "    .dataframe tbody tr th:only-of-type {\n",
              "        vertical-align: middle;\n",
              "    }\n",
              "\n",
              "    .dataframe tbody tr th {\n",
              "        vertical-align: top;\n",
              "    }\n",
              "\n",
              "    .dataframe thead th {\n",
              "        text-align: right;\n",
              "    }\n",
              "</style>\n",
              "<table border=\"1\" class=\"dataframe\">\n",
              "  <thead>\n",
              "    <tr style=\"text-align: right;\">\n",
              "      <th></th>\n",
              "      <th>year</th>\n",
              "      <th>title</th>\n",
              "      <th>plot</th>\n",
              "      <th>genres</th>\n",
              "      <th>rating</th>\n",
              "    </tr>\n",
              "  </thead>\n",
              "  <tbody>\n",
              "    <tr>\n",
              "      <th>3107</th>\n",
              "      <td>2003</td>\n",
              "      <td>Most</td>\n",
              "      <td>most is the story of a single father who takes...</td>\n",
              "      <td>['Short', 'Drama']</td>\n",
              "      <td>8.0</td>\n",
              "    </tr>\n",
              "    <tr>\n",
              "      <th>900</th>\n",
              "      <td>2008</td>\n",
              "      <td>How to Be a Serial Killer</td>\n",
              "      <td>a serial killer decides to teach the secrets o...</td>\n",
              "      <td>['Comedy', 'Crime', 'Horror']</td>\n",
              "      <td>5.6</td>\n",
              "    </tr>\n",
              "    <tr>\n",
              "      <th>6724</th>\n",
              "      <td>1941</td>\n",
              "      <td>A Woman's Face</td>\n",
              "      <td>in sweden ,  a female blackmailer with a disfi...</td>\n",
              "      <td>['Drama', 'Film-Noir', 'Thriller']</td>\n",
              "      <td>7.2</td>\n",
              "    </tr>\n",
              "    <tr>\n",
              "      <th>4704</th>\n",
              "      <td>1954</td>\n",
              "      <td>Executive Suite</td>\n",
              "      <td>in a friday afternoon in new york ,  the presi...</td>\n",
              "      <td>['Drama']</td>\n",
              "      <td>7.4</td>\n",
              "    </tr>\n",
              "    <tr>\n",
              "      <th>2582</th>\n",
              "      <td>1990</td>\n",
              "      <td>Narrow Margin</td>\n",
              "      <td>in los angeles ,  the editor of a publishing h...</td>\n",
              "      <td>['Action', 'Crime', 'Thriller']</td>\n",
              "      <td>6.6</td>\n",
              "    </tr>\n",
              "  </tbody>\n",
              "</table>\n",
              "</div>\n",
              "    <div class=\"colab-df-buttons\">\n",
              "\n",
              "  <div class=\"colab-df-container\">\n",
              "    <button class=\"colab-df-convert\" onclick=\"convertToInteractive('df-eca05007-9bcf-49c7-94bc-41d6d4d8a474')\"\n",
              "            title=\"Convert this dataframe to an interactive table.\"\n",
              "            style=\"display:none;\">\n",
              "\n",
              "  <svg xmlns=\"http://www.w3.org/2000/svg\" height=\"24px\" viewBox=\"0 -960 960 960\">\n",
              "    <path d=\"M120-120v-720h720v720H120Zm60-500h600v-160H180v160Zm220 220h160v-160H400v160Zm0 220h160v-160H400v160ZM180-400h160v-160H180v160Zm440 0h160v-160H620v160ZM180-180h160v-160H180v160Zm440 0h160v-160H620v160Z\"/>\n",
              "  </svg>\n",
              "    </button>\n",
              "\n",
              "  <style>\n",
              "    .colab-df-container {\n",
              "      display:flex;\n",
              "      gap: 12px;\n",
              "    }\n",
              "\n",
              "    .colab-df-convert {\n",
              "      background-color: #E8F0FE;\n",
              "      border: none;\n",
              "      border-radius: 50%;\n",
              "      cursor: pointer;\n",
              "      display: none;\n",
              "      fill: #1967D2;\n",
              "      height: 32px;\n",
              "      padding: 0 0 0 0;\n",
              "      width: 32px;\n",
              "    }\n",
              "\n",
              "    .colab-df-convert:hover {\n",
              "      background-color: #E2EBFA;\n",
              "      box-shadow: 0px 1px 2px rgba(60, 64, 67, 0.3), 0px 1px 3px 1px rgba(60, 64, 67, 0.15);\n",
              "      fill: #174EA6;\n",
              "    }\n",
              "\n",
              "    .colab-df-buttons div {\n",
              "      margin-bottom: 4px;\n",
              "    }\n",
              "\n",
              "    [theme=dark] .colab-df-convert {\n",
              "      background-color: #3B4455;\n",
              "      fill: #D2E3FC;\n",
              "    }\n",
              "\n",
              "    [theme=dark] .colab-df-convert:hover {\n",
              "      background-color: #434B5C;\n",
              "      box-shadow: 0px 1px 3px 1px rgba(0, 0, 0, 0.15);\n",
              "      filter: drop-shadow(0px 1px 2px rgba(0, 0, 0, 0.3));\n",
              "      fill: #FFFFFF;\n",
              "    }\n",
              "  </style>\n",
              "\n",
              "    <script>\n",
              "      const buttonEl =\n",
              "        document.querySelector('#df-eca05007-9bcf-49c7-94bc-41d6d4d8a474 button.colab-df-convert');\n",
              "      buttonEl.style.display =\n",
              "        google.colab.kernel.accessAllowed ? 'block' : 'none';\n",
              "\n",
              "      async function convertToInteractive(key) {\n",
              "        const element = document.querySelector('#df-eca05007-9bcf-49c7-94bc-41d6d4d8a474');\n",
              "        const dataTable =\n",
              "          await google.colab.kernel.invokeFunction('convertToInteractive',\n",
              "                                                    [key], {});\n",
              "        if (!dataTable) return;\n",
              "\n",
              "        const docLinkHtml = 'Like what you see? Visit the ' +\n",
              "          '<a target=\"_blank\" href=https://colab.research.google.com/notebooks/data_table.ipynb>data table notebook</a>'\n",
              "          + ' to learn more about interactive tables.';\n",
              "        element.innerHTML = '';\n",
              "        dataTable['output_type'] = 'display_data';\n",
              "        await google.colab.output.renderOutput(dataTable, element);\n",
              "        const docLink = document.createElement('div');\n",
              "        docLink.innerHTML = docLinkHtml;\n",
              "        element.appendChild(docLink);\n",
              "      }\n",
              "    </script>\n",
              "  </div>\n",
              "\n",
              "\n",
              "<div id=\"df-b7139b1f-72ec-415e-b62c-91f0594904e3\">\n",
              "  <button class=\"colab-df-quickchart\" onclick=\"quickchart('df-b7139b1f-72ec-415e-b62c-91f0594904e3')\"\n",
              "            title=\"Suggest charts.\"\n",
              "            style=\"display:none;\">\n",
              "\n",
              "<svg xmlns=\"http://www.w3.org/2000/svg\" height=\"24px\"viewBox=\"0 0 24 24\"\n",
              "     width=\"24px\">\n",
              "    <g>\n",
              "        <path d=\"M19 3H5c-1.1 0-2 .9-2 2v14c0 1.1.9 2 2 2h14c1.1 0 2-.9 2-2V5c0-1.1-.9-2-2-2zM9 17H7v-7h2v7zm4 0h-2V7h2v10zm4 0h-2v-4h2v4z\"/>\n",
              "    </g>\n",
              "</svg>\n",
              "  </button>\n",
              "\n",
              "<style>\n",
              "  .colab-df-quickchart {\n",
              "      --bg-color: #E8F0FE;\n",
              "      --fill-color: #1967D2;\n",
              "      --hover-bg-color: #E2EBFA;\n",
              "      --hover-fill-color: #174EA6;\n",
              "      --disabled-fill-color: #AAA;\n",
              "      --disabled-bg-color: #DDD;\n",
              "  }\n",
              "\n",
              "  [theme=dark] .colab-df-quickchart {\n",
              "      --bg-color: #3B4455;\n",
              "      --fill-color: #D2E3FC;\n",
              "      --hover-bg-color: #434B5C;\n",
              "      --hover-fill-color: #FFFFFF;\n",
              "      --disabled-bg-color: #3B4455;\n",
              "      --disabled-fill-color: #666;\n",
              "  }\n",
              "\n",
              "  .colab-df-quickchart {\n",
              "    background-color: var(--bg-color);\n",
              "    border: none;\n",
              "    border-radius: 50%;\n",
              "    cursor: pointer;\n",
              "    display: none;\n",
              "    fill: var(--fill-color);\n",
              "    height: 32px;\n",
              "    padding: 0;\n",
              "    width: 32px;\n",
              "  }\n",
              "\n",
              "  .colab-df-quickchart:hover {\n",
              "    background-color: var(--hover-bg-color);\n",
              "    box-shadow: 0 1px 2px rgba(60, 64, 67, 0.3), 0 1px 3px 1px rgba(60, 64, 67, 0.15);\n",
              "    fill: var(--button-hover-fill-color);\n",
              "  }\n",
              "\n",
              "  .colab-df-quickchart-complete:disabled,\n",
              "  .colab-df-quickchart-complete:disabled:hover {\n",
              "    background-color: var(--disabled-bg-color);\n",
              "    fill: var(--disabled-fill-color);\n",
              "    box-shadow: none;\n",
              "  }\n",
              "\n",
              "  .colab-df-spinner {\n",
              "    border: 2px solid var(--fill-color);\n",
              "    border-color: transparent;\n",
              "    border-bottom-color: var(--fill-color);\n",
              "    animation:\n",
              "      spin 1s steps(1) infinite;\n",
              "  }\n",
              "\n",
              "  @keyframes spin {\n",
              "    0% {\n",
              "      border-color: transparent;\n",
              "      border-bottom-color: var(--fill-color);\n",
              "      border-left-color: var(--fill-color);\n",
              "    }\n",
              "    20% {\n",
              "      border-color: transparent;\n",
              "      border-left-color: var(--fill-color);\n",
              "      border-top-color: var(--fill-color);\n",
              "    }\n",
              "    30% {\n",
              "      border-color: transparent;\n",
              "      border-left-color: var(--fill-color);\n",
              "      border-top-color: var(--fill-color);\n",
              "      border-right-color: var(--fill-color);\n",
              "    }\n",
              "    40% {\n",
              "      border-color: transparent;\n",
              "      border-right-color: var(--fill-color);\n",
              "      border-top-color: var(--fill-color);\n",
              "    }\n",
              "    60% {\n",
              "      border-color: transparent;\n",
              "      border-right-color: var(--fill-color);\n",
              "    }\n",
              "    80% {\n",
              "      border-color: transparent;\n",
              "      border-right-color: var(--fill-color);\n",
              "      border-bottom-color: var(--fill-color);\n",
              "    }\n",
              "    90% {\n",
              "      border-color: transparent;\n",
              "      border-bottom-color: var(--fill-color);\n",
              "    }\n",
              "  }\n",
              "</style>\n",
              "\n",
              "  <script>\n",
              "    async function quickchart(key) {\n",
              "      const quickchartButtonEl =\n",
              "        document.querySelector('#' + key + ' button');\n",
              "      quickchartButtonEl.disabled = true;  // To prevent multiple clicks.\n",
              "      quickchartButtonEl.classList.add('colab-df-spinner');\n",
              "      try {\n",
              "        const charts = await google.colab.kernel.invokeFunction(\n",
              "            'suggestCharts', [key], {});\n",
              "      } catch (error) {\n",
              "        console.error('Error during call to suggestCharts:', error);\n",
              "      }\n",
              "      quickchartButtonEl.classList.remove('colab-df-spinner');\n",
              "      quickchartButtonEl.classList.add('colab-df-quickchart-complete');\n",
              "    }\n",
              "    (() => {\n",
              "      let quickchartButtonEl =\n",
              "        document.querySelector('#df-b7139b1f-72ec-415e-b62c-91f0594904e3 button');\n",
              "      quickchartButtonEl.style.display =\n",
              "        google.colab.kernel.accessAllowed ? 'block' : 'none';\n",
              "    })();\n",
              "  </script>\n",
              "</div>\n",
              "    </div>\n",
              "  </div>\n"
            ]
          },
          "metadata": {},
          "execution_count": 3
        }
      ],
      "source": [
        "dataTraining.head()"
      ]
    },
    {
      "cell_type": "code",
      "execution_count": 4,
      "metadata": {
        "colab": {
          "base_uri": "https://localhost:8080/",
          "height": 0
        },
        "id": "1ofD1zoGnx_v",
        "outputId": "a6e84f10-7799-4257-ba12-991e1ffd15df"
      },
      "outputs": [
        {
          "output_type": "execute_result",
          "data": {
            "text/plain": [
              "   year                title  \\\n",
              "1  1999  Message in a Bottle   \n",
              "4  1978     Midnight Express   \n",
              "5  1996          Primal Fear   \n",
              "6  1950               Crisis   \n",
              "7  1959          The Tingler   \n",
              "\n",
              "                                                plot  \n",
              "1  who meets by fate ,  shall be sealed by fate ....  \n",
              "4  the true story of billy hayes ,  an american c...  \n",
              "5  martin vail left the chicago da ' s office to ...  \n",
              "6  husband and wife americans dr .  eugene and mr...  \n",
              "7  the coroner and scientist dr .  warren chapin ...  "
            ],
            "text/html": [
              "\n",
              "  <div id=\"df-67dbc57a-c373-4065-89bb-0b1dd9449dab\" class=\"colab-df-container\">\n",
              "    <div>\n",
              "<style scoped>\n",
              "    .dataframe tbody tr th:only-of-type {\n",
              "        vertical-align: middle;\n",
              "    }\n",
              "\n",
              "    .dataframe tbody tr th {\n",
              "        vertical-align: top;\n",
              "    }\n",
              "\n",
              "    .dataframe thead th {\n",
              "        text-align: right;\n",
              "    }\n",
              "</style>\n",
              "<table border=\"1\" class=\"dataframe\">\n",
              "  <thead>\n",
              "    <tr style=\"text-align: right;\">\n",
              "      <th></th>\n",
              "      <th>year</th>\n",
              "      <th>title</th>\n",
              "      <th>plot</th>\n",
              "    </tr>\n",
              "  </thead>\n",
              "  <tbody>\n",
              "    <tr>\n",
              "      <th>1</th>\n",
              "      <td>1999</td>\n",
              "      <td>Message in a Bottle</td>\n",
              "      <td>who meets by fate ,  shall be sealed by fate ....</td>\n",
              "    </tr>\n",
              "    <tr>\n",
              "      <th>4</th>\n",
              "      <td>1978</td>\n",
              "      <td>Midnight Express</td>\n",
              "      <td>the true story of billy hayes ,  an american c...</td>\n",
              "    </tr>\n",
              "    <tr>\n",
              "      <th>5</th>\n",
              "      <td>1996</td>\n",
              "      <td>Primal Fear</td>\n",
              "      <td>martin vail left the chicago da ' s office to ...</td>\n",
              "    </tr>\n",
              "    <tr>\n",
              "      <th>6</th>\n",
              "      <td>1950</td>\n",
              "      <td>Crisis</td>\n",
              "      <td>husband and wife americans dr .  eugene and mr...</td>\n",
              "    </tr>\n",
              "    <tr>\n",
              "      <th>7</th>\n",
              "      <td>1959</td>\n",
              "      <td>The Tingler</td>\n",
              "      <td>the coroner and scientist dr .  warren chapin ...</td>\n",
              "    </tr>\n",
              "  </tbody>\n",
              "</table>\n",
              "</div>\n",
              "    <div class=\"colab-df-buttons\">\n",
              "\n",
              "  <div class=\"colab-df-container\">\n",
              "    <button class=\"colab-df-convert\" onclick=\"convertToInteractive('df-67dbc57a-c373-4065-89bb-0b1dd9449dab')\"\n",
              "            title=\"Convert this dataframe to an interactive table.\"\n",
              "            style=\"display:none;\">\n",
              "\n",
              "  <svg xmlns=\"http://www.w3.org/2000/svg\" height=\"24px\" viewBox=\"0 -960 960 960\">\n",
              "    <path d=\"M120-120v-720h720v720H120Zm60-500h600v-160H180v160Zm220 220h160v-160H400v160Zm0 220h160v-160H400v160ZM180-400h160v-160H180v160Zm440 0h160v-160H620v160ZM180-180h160v-160H180v160Zm440 0h160v-160H620v160Z\"/>\n",
              "  </svg>\n",
              "    </button>\n",
              "\n",
              "  <style>\n",
              "    .colab-df-container {\n",
              "      display:flex;\n",
              "      gap: 12px;\n",
              "    }\n",
              "\n",
              "    .colab-df-convert {\n",
              "      background-color: #E8F0FE;\n",
              "      border: none;\n",
              "      border-radius: 50%;\n",
              "      cursor: pointer;\n",
              "      display: none;\n",
              "      fill: #1967D2;\n",
              "      height: 32px;\n",
              "      padding: 0 0 0 0;\n",
              "      width: 32px;\n",
              "    }\n",
              "\n",
              "    .colab-df-convert:hover {\n",
              "      background-color: #E2EBFA;\n",
              "      box-shadow: 0px 1px 2px rgba(60, 64, 67, 0.3), 0px 1px 3px 1px rgba(60, 64, 67, 0.15);\n",
              "      fill: #174EA6;\n",
              "    }\n",
              "\n",
              "    .colab-df-buttons div {\n",
              "      margin-bottom: 4px;\n",
              "    }\n",
              "\n",
              "    [theme=dark] .colab-df-convert {\n",
              "      background-color: #3B4455;\n",
              "      fill: #D2E3FC;\n",
              "    }\n",
              "\n",
              "    [theme=dark] .colab-df-convert:hover {\n",
              "      background-color: #434B5C;\n",
              "      box-shadow: 0px 1px 3px 1px rgba(0, 0, 0, 0.15);\n",
              "      filter: drop-shadow(0px 1px 2px rgba(0, 0, 0, 0.3));\n",
              "      fill: #FFFFFF;\n",
              "    }\n",
              "  </style>\n",
              "\n",
              "    <script>\n",
              "      const buttonEl =\n",
              "        document.querySelector('#df-67dbc57a-c373-4065-89bb-0b1dd9449dab button.colab-df-convert');\n",
              "      buttonEl.style.display =\n",
              "        google.colab.kernel.accessAllowed ? 'block' : 'none';\n",
              "\n",
              "      async function convertToInteractive(key) {\n",
              "        const element = document.querySelector('#df-67dbc57a-c373-4065-89bb-0b1dd9449dab');\n",
              "        const dataTable =\n",
              "          await google.colab.kernel.invokeFunction('convertToInteractive',\n",
              "                                                    [key], {});\n",
              "        if (!dataTable) return;\n",
              "\n",
              "        const docLinkHtml = 'Like what you see? Visit the ' +\n",
              "          '<a target=\"_blank\" href=https://colab.research.google.com/notebooks/data_table.ipynb>data table notebook</a>'\n",
              "          + ' to learn more about interactive tables.';\n",
              "        element.innerHTML = '';\n",
              "        dataTable['output_type'] = 'display_data';\n",
              "        await google.colab.output.renderOutput(dataTable, element);\n",
              "        const docLink = document.createElement('div');\n",
              "        docLink.innerHTML = docLinkHtml;\n",
              "        element.appendChild(docLink);\n",
              "      }\n",
              "    </script>\n",
              "  </div>\n",
              "\n",
              "\n",
              "<div id=\"df-a30e9f30-649d-4971-bf3d-b9abd8248d15\">\n",
              "  <button class=\"colab-df-quickchart\" onclick=\"quickchart('df-a30e9f30-649d-4971-bf3d-b9abd8248d15')\"\n",
              "            title=\"Suggest charts.\"\n",
              "            style=\"display:none;\">\n",
              "\n",
              "<svg xmlns=\"http://www.w3.org/2000/svg\" height=\"24px\"viewBox=\"0 0 24 24\"\n",
              "     width=\"24px\">\n",
              "    <g>\n",
              "        <path d=\"M19 3H5c-1.1 0-2 .9-2 2v14c0 1.1.9 2 2 2h14c1.1 0 2-.9 2-2V5c0-1.1-.9-2-2-2zM9 17H7v-7h2v7zm4 0h-2V7h2v10zm4 0h-2v-4h2v4z\"/>\n",
              "    </g>\n",
              "</svg>\n",
              "  </button>\n",
              "\n",
              "<style>\n",
              "  .colab-df-quickchart {\n",
              "      --bg-color: #E8F0FE;\n",
              "      --fill-color: #1967D2;\n",
              "      --hover-bg-color: #E2EBFA;\n",
              "      --hover-fill-color: #174EA6;\n",
              "      --disabled-fill-color: #AAA;\n",
              "      --disabled-bg-color: #DDD;\n",
              "  }\n",
              "\n",
              "  [theme=dark] .colab-df-quickchart {\n",
              "      --bg-color: #3B4455;\n",
              "      --fill-color: #D2E3FC;\n",
              "      --hover-bg-color: #434B5C;\n",
              "      --hover-fill-color: #FFFFFF;\n",
              "      --disabled-bg-color: #3B4455;\n",
              "      --disabled-fill-color: #666;\n",
              "  }\n",
              "\n",
              "  .colab-df-quickchart {\n",
              "    background-color: var(--bg-color);\n",
              "    border: none;\n",
              "    border-radius: 50%;\n",
              "    cursor: pointer;\n",
              "    display: none;\n",
              "    fill: var(--fill-color);\n",
              "    height: 32px;\n",
              "    padding: 0;\n",
              "    width: 32px;\n",
              "  }\n",
              "\n",
              "  .colab-df-quickchart:hover {\n",
              "    background-color: var(--hover-bg-color);\n",
              "    box-shadow: 0 1px 2px rgba(60, 64, 67, 0.3), 0 1px 3px 1px rgba(60, 64, 67, 0.15);\n",
              "    fill: var(--button-hover-fill-color);\n",
              "  }\n",
              "\n",
              "  .colab-df-quickchart-complete:disabled,\n",
              "  .colab-df-quickchart-complete:disabled:hover {\n",
              "    background-color: var(--disabled-bg-color);\n",
              "    fill: var(--disabled-fill-color);\n",
              "    box-shadow: none;\n",
              "  }\n",
              "\n",
              "  .colab-df-spinner {\n",
              "    border: 2px solid var(--fill-color);\n",
              "    border-color: transparent;\n",
              "    border-bottom-color: var(--fill-color);\n",
              "    animation:\n",
              "      spin 1s steps(1) infinite;\n",
              "  }\n",
              "\n",
              "  @keyframes spin {\n",
              "    0% {\n",
              "      border-color: transparent;\n",
              "      border-bottom-color: var(--fill-color);\n",
              "      border-left-color: var(--fill-color);\n",
              "    }\n",
              "    20% {\n",
              "      border-color: transparent;\n",
              "      border-left-color: var(--fill-color);\n",
              "      border-top-color: var(--fill-color);\n",
              "    }\n",
              "    30% {\n",
              "      border-color: transparent;\n",
              "      border-left-color: var(--fill-color);\n",
              "      border-top-color: var(--fill-color);\n",
              "      border-right-color: var(--fill-color);\n",
              "    }\n",
              "    40% {\n",
              "      border-color: transparent;\n",
              "      border-right-color: var(--fill-color);\n",
              "      border-top-color: var(--fill-color);\n",
              "    }\n",
              "    60% {\n",
              "      border-color: transparent;\n",
              "      border-right-color: var(--fill-color);\n",
              "    }\n",
              "    80% {\n",
              "      border-color: transparent;\n",
              "      border-right-color: var(--fill-color);\n",
              "      border-bottom-color: var(--fill-color);\n",
              "    }\n",
              "    90% {\n",
              "      border-color: transparent;\n",
              "      border-bottom-color: var(--fill-color);\n",
              "    }\n",
              "  }\n",
              "</style>\n",
              "\n",
              "  <script>\n",
              "    async function quickchart(key) {\n",
              "      const quickchartButtonEl =\n",
              "        document.querySelector('#' + key + ' button');\n",
              "      quickchartButtonEl.disabled = true;  // To prevent multiple clicks.\n",
              "      quickchartButtonEl.classList.add('colab-df-spinner');\n",
              "      try {\n",
              "        const charts = await google.colab.kernel.invokeFunction(\n",
              "            'suggestCharts', [key], {});\n",
              "      } catch (error) {\n",
              "        console.error('Error during call to suggestCharts:', error);\n",
              "      }\n",
              "      quickchartButtonEl.classList.remove('colab-df-spinner');\n",
              "      quickchartButtonEl.classList.add('colab-df-quickchart-complete');\n",
              "    }\n",
              "    (() => {\n",
              "      let quickchartButtonEl =\n",
              "        document.querySelector('#df-a30e9f30-649d-4971-bf3d-b9abd8248d15 button');\n",
              "      quickchartButtonEl.style.display =\n",
              "        google.colab.kernel.accessAllowed ? 'block' : 'none';\n",
              "    })();\n",
              "  </script>\n",
              "</div>\n",
              "    </div>\n",
              "  </div>\n"
            ]
          },
          "metadata": {},
          "execution_count": 4
        }
      ],
      "source": [
        "dataTesting.head()"
      ]
    },
    {
      "cell_type": "code",
      "source": [
        "# x = dataTraining['plot'].apply(limpiar_data)\n",
        "# x.head()"
      ],
      "metadata": {
        "id": "-4_TP_Gok7z-"
      },
      "execution_count": 5,
      "outputs": []
    },
    {
      "cell_type": "markdown",
      "metadata": {
        "id": "Q0JTfcx-nx_v"
      },
      "source": [
        "### Create count vectorizer\n"
      ]
    },
    {
      "cell_type": "code",
      "execution_count": 6,
      "metadata": {
        "colab": {
          "base_uri": "https://localhost:8080/"
        },
        "id": "TOtOhavanx_v",
        "outputId": "70160934-d8ec-4556-b05a-bad81e4a7822"
      },
      "outputs": [
        {
          "output_type": "execute_result",
          "data": {
            "text/plain": [
              "(7895, 1000)"
            ]
          },
          "metadata": {},
          "execution_count": 6
        }
      ],
      "source": [
        "vect = CountVectorizer(max_features=1000)\n",
        "X_dtm = vect.fit_transform(dataTraining['plot'])\n",
        "X_dtm.shape"
      ]
    },
    {
      "cell_type": "code",
      "execution_count": 7,
      "metadata": {
        "colab": {
          "base_uri": "https://localhost:8080/"
        },
        "id": "-WmoGe7hnx_v",
        "outputId": "718cfff8-2559-4847-8fe2-1dd5c94c7253"
      },
      "outputs": [
        {
          "output_type": "stream",
          "name": "stdout",
          "text": [
            "['most', 'is', 'the', 'story', 'of', 'single', 'father', 'who', 'takes', 'his', 'year', 'old', 'son', 'to', 'work', 'with', 'him', 'at', 'where', 'he', 'day', 'before', 'boy', 'meets', 'woman', 'train', 'drug', 'goes', 'into', 'room', 'and', 'tells', 'stay', 'ship', 'comes', 'though', 'it', 'arrive', 'an', 'later', 'happens', 'sees', 'this', 'tries', 'not', 'able', 'see', 'just', 'as', 'falls']\n"
          ]
        }
      ],
      "source": [
        "print(list(vect.vocabulary_.keys())[:50])"
      ]
    },
    {
      "cell_type": "markdown",
      "metadata": {
        "id": "LxIraRIgnx_w"
      },
      "source": [
        "### Create y"
      ]
    },
    {
      "cell_type": "code",
      "execution_count": 8,
      "metadata": {
        "id": "jJgReT6nnx_w"
      },
      "outputs": [],
      "source": [
        "dataTraining['genres'] = dataTraining['genres'].map(lambda x: eval(x))\n",
        "\n",
        "le = MultiLabelBinarizer()\n",
        "y_genres = le.fit_transform(dataTraining['genres'])"
      ]
    },
    {
      "cell_type": "code",
      "execution_count": 9,
      "metadata": {
        "colab": {
          "base_uri": "https://localhost:8080/"
        },
        "id": "Fp56UvD0nx_w",
        "outputId": "a5b06ca3-5379-4296-bc87-d9a2ce891fd4"
      },
      "outputs": [
        {
          "output_type": "execute_result",
          "data": {
            "text/plain": [
              "array([[0, 0, 0, ..., 0, 0, 0],\n",
              "       [0, 0, 0, ..., 0, 0, 0],\n",
              "       [0, 0, 0, ..., 1, 0, 0],\n",
              "       ...,\n",
              "       [0, 1, 0, ..., 0, 0, 0],\n",
              "       [0, 1, 1, ..., 0, 0, 0],\n",
              "       [0, 1, 1, ..., 0, 0, 0]])"
            ]
          },
          "metadata": {},
          "execution_count": 9
        }
      ],
      "source": [
        "y_genres"
      ]
    },
    {
      "cell_type": "code",
      "source": [
        "y_genres.shape"
      ],
      "metadata": {
        "colab": {
          "base_uri": "https://localhost:8080/"
        },
        "id": "ahI7MAEVpNJF",
        "outputId": "3e23a9da-6aa8-4cb2-aff7-866a6431d0a2"
      },
      "execution_count": 10,
      "outputs": [
        {
          "output_type": "execute_result",
          "data": {
            "text/plain": [
              "(7895, 24)"
            ]
          },
          "metadata": {},
          "execution_count": 10
        }
      ]
    },
    {
      "cell_type": "code",
      "execution_count": 11,
      "metadata": {
        "id": "uzJ-6k7tnx_w"
      },
      "outputs": [],
      "source": [
        "X_train, X_test, y_train_genres, y_test_genres = train_test_split(X_dtm, y_genres, test_size=0.33, random_state=42)"
      ]
    },
    {
      "cell_type": "markdown",
      "metadata": {
        "id": "_A8GJ0oBnx_x"
      },
      "source": [
        "### Train multi-class multi-label model"
      ]
    },
    {
      "cell_type": "code",
      "execution_count": 12,
      "metadata": {
        "id": "5vfswfx_nx_x"
      },
      "outputs": [],
      "source": [
        "clf = OneVsRestClassifier(RandomForestClassifier(n_jobs=-1, n_estimators=100, max_depth=10, random_state=42))"
      ]
    },
    {
      "cell_type": "code",
      "execution_count": 13,
      "metadata": {
        "colab": {
          "base_uri": "https://localhost:8080/",
          "height": 0
        },
        "id": "zIhINqcmnx_x",
        "outputId": "06755a6f-0233-4b9b-f760-f4fb8979144d"
      },
      "outputs": [
        {
          "output_type": "execute_result",
          "data": {
            "text/plain": [
              "OneVsRestClassifier(estimator=RandomForestClassifier(max_depth=10, n_jobs=-1,\n",
              "                                                     random_state=42))"
            ],
            "text/html": [
              "<style>#sk-container-id-1 {color: black;background-color: white;}#sk-container-id-1 pre{padding: 0;}#sk-container-id-1 div.sk-toggleable {background-color: white;}#sk-container-id-1 label.sk-toggleable__label {cursor: pointer;display: block;width: 100%;margin-bottom: 0;padding: 0.3em;box-sizing: border-box;text-align: center;}#sk-container-id-1 label.sk-toggleable__label-arrow:before {content: \"▸\";float: left;margin-right: 0.25em;color: #696969;}#sk-container-id-1 label.sk-toggleable__label-arrow:hover:before {color: black;}#sk-container-id-1 div.sk-estimator:hover label.sk-toggleable__label-arrow:before {color: black;}#sk-container-id-1 div.sk-toggleable__content {max-height: 0;max-width: 0;overflow: hidden;text-align: left;background-color: #f0f8ff;}#sk-container-id-1 div.sk-toggleable__content pre {margin: 0.2em;color: black;border-radius: 0.25em;background-color: #f0f8ff;}#sk-container-id-1 input.sk-toggleable__control:checked~div.sk-toggleable__content {max-height: 200px;max-width: 100%;overflow: auto;}#sk-container-id-1 input.sk-toggleable__control:checked~label.sk-toggleable__label-arrow:before {content: \"▾\";}#sk-container-id-1 div.sk-estimator input.sk-toggleable__control:checked~label.sk-toggleable__label {background-color: #d4ebff;}#sk-container-id-1 div.sk-label input.sk-toggleable__control:checked~label.sk-toggleable__label {background-color: #d4ebff;}#sk-container-id-1 input.sk-hidden--visually {border: 0;clip: rect(1px 1px 1px 1px);clip: rect(1px, 1px, 1px, 1px);height: 1px;margin: -1px;overflow: hidden;padding: 0;position: absolute;width: 1px;}#sk-container-id-1 div.sk-estimator {font-family: monospace;background-color: #f0f8ff;border: 1px dotted black;border-radius: 0.25em;box-sizing: border-box;margin-bottom: 0.5em;}#sk-container-id-1 div.sk-estimator:hover {background-color: #d4ebff;}#sk-container-id-1 div.sk-parallel-item::after {content: \"\";width: 100%;border-bottom: 1px solid gray;flex-grow: 1;}#sk-container-id-1 div.sk-label:hover label.sk-toggleable__label {background-color: #d4ebff;}#sk-container-id-1 div.sk-serial::before {content: \"\";position: absolute;border-left: 1px solid gray;box-sizing: border-box;top: 0;bottom: 0;left: 50%;z-index: 0;}#sk-container-id-1 div.sk-serial {display: flex;flex-direction: column;align-items: center;background-color: white;padding-right: 0.2em;padding-left: 0.2em;position: relative;}#sk-container-id-1 div.sk-item {position: relative;z-index: 1;}#sk-container-id-1 div.sk-parallel {display: flex;align-items: stretch;justify-content: center;background-color: white;position: relative;}#sk-container-id-1 div.sk-item::before, #sk-container-id-1 div.sk-parallel-item::before {content: \"\";position: absolute;border-left: 1px solid gray;box-sizing: border-box;top: 0;bottom: 0;left: 50%;z-index: -1;}#sk-container-id-1 div.sk-parallel-item {display: flex;flex-direction: column;z-index: 1;position: relative;background-color: white;}#sk-container-id-1 div.sk-parallel-item:first-child::after {align-self: flex-end;width: 50%;}#sk-container-id-1 div.sk-parallel-item:last-child::after {align-self: flex-start;width: 50%;}#sk-container-id-1 div.sk-parallel-item:only-child::after {width: 0;}#sk-container-id-1 div.sk-dashed-wrapped {border: 1px dashed gray;margin: 0 0.4em 0.5em 0.4em;box-sizing: border-box;padding-bottom: 0.4em;background-color: white;}#sk-container-id-1 div.sk-label label {font-family: monospace;font-weight: bold;display: inline-block;line-height: 1.2em;}#sk-container-id-1 div.sk-label-container {text-align: center;}#sk-container-id-1 div.sk-container {/* jupyter's `normalize.less` sets `[hidden] { display: none; }` but bootstrap.min.css set `[hidden] { display: none !important; }` so we also need the `!important` here to be able to override the default hidden behavior on the sphinx rendered scikit-learn.org. See: https://github.com/scikit-learn/scikit-learn/issues/21755 */display: inline-block !important;position: relative;}#sk-container-id-1 div.sk-text-repr-fallback {display: none;}</style><div id=\"sk-container-id-1\" class=\"sk-top-container\"><div class=\"sk-text-repr-fallback\"><pre>OneVsRestClassifier(estimator=RandomForestClassifier(max_depth=10, n_jobs=-1,\n",
              "                                                     random_state=42))</pre><b>In a Jupyter environment, please rerun this cell to show the HTML representation or trust the notebook. <br />On GitHub, the HTML representation is unable to render, please try loading this page with nbviewer.org.</b></div><div class=\"sk-container\" hidden><div class=\"sk-item sk-dashed-wrapped\"><div class=\"sk-label-container\"><div class=\"sk-label sk-toggleable\"><input class=\"sk-toggleable__control sk-hidden--visually\" id=\"sk-estimator-id-1\" type=\"checkbox\" ><label for=\"sk-estimator-id-1\" class=\"sk-toggleable__label sk-toggleable__label-arrow\">OneVsRestClassifier</label><div class=\"sk-toggleable__content\"><pre>OneVsRestClassifier(estimator=RandomForestClassifier(max_depth=10, n_jobs=-1,\n",
              "                                                     random_state=42))</pre></div></div></div><div class=\"sk-parallel\"><div class=\"sk-parallel-item\"><div class=\"sk-item\"><div class=\"sk-label-container\"><div class=\"sk-label sk-toggleable\"><input class=\"sk-toggleable__control sk-hidden--visually\" id=\"sk-estimator-id-2\" type=\"checkbox\" ><label for=\"sk-estimator-id-2\" class=\"sk-toggleable__label sk-toggleable__label-arrow\">estimator: RandomForestClassifier</label><div class=\"sk-toggleable__content\"><pre>RandomForestClassifier(max_depth=10, n_jobs=-1, random_state=42)</pre></div></div></div><div class=\"sk-serial\"><div class=\"sk-item\"><div class=\"sk-estimator sk-toggleable\"><input class=\"sk-toggleable__control sk-hidden--visually\" id=\"sk-estimator-id-3\" type=\"checkbox\" ><label for=\"sk-estimator-id-3\" class=\"sk-toggleable__label sk-toggleable__label-arrow\">RandomForestClassifier</label><div class=\"sk-toggleable__content\"><pre>RandomForestClassifier(max_depth=10, n_jobs=-1, random_state=42)</pre></div></div></div></div></div></div></div></div></div></div>"
            ]
          },
          "metadata": {},
          "execution_count": 13
        }
      ],
      "source": [
        "clf.fit(X_train, y_train_genres)"
      ]
    },
    {
      "cell_type": "code",
      "execution_count": 14,
      "metadata": {
        "id": "fsCTAiqJnx_x"
      },
      "outputs": [],
      "source": [
        "y_pred_genres = clf.predict_proba(X_test)"
      ]
    },
    {
      "cell_type": "code",
      "source": [
        "y_test_genres"
      ],
      "metadata": {
        "colab": {
          "base_uri": "https://localhost:8080/"
        },
        "id": "zyyx_Oz4jjDm",
        "outputId": "e2216229-119c-4cd4-aa1a-8256d4acdcea"
      },
      "execution_count": 15,
      "outputs": [
        {
          "output_type": "execute_result",
          "data": {
            "text/plain": [
              "array([[0, 0, 0, ..., 1, 0, 0],\n",
              "       [0, 1, 0, ..., 0, 1, 0],\n",
              "       [0, 0, 0, ..., 0, 0, 0],\n",
              "       ...,\n",
              "       [0, 0, 0, ..., 1, 0, 0],\n",
              "       [0, 0, 0, ..., 0, 0, 0],\n",
              "       [0, 0, 0, ..., 0, 0, 0]])"
            ]
          },
          "metadata": {},
          "execution_count": 15
        }
      ]
    },
    {
      "cell_type": "code",
      "execution_count": 16,
      "metadata": {
        "colab": {
          "base_uri": "https://localhost:8080/"
        },
        "id": "dd9jPPjknx_x",
        "outputId": "c537a687-735c-4a85-f233-0ededef96bf6"
      },
      "outputs": [
        {
          "output_type": "execute_result",
          "data": {
            "text/plain": [
              "0.7812262183677007"
            ]
          },
          "metadata": {},
          "execution_count": 16
        }
      ],
      "source": [
        "roc_auc_score(y_test_genres, y_pred_genres, average='macro')"
      ]
    },
    {
      "cell_type": "code",
      "execution_count": 16,
      "metadata": {
        "id": "y5wH_qTnnx_y"
      },
      "outputs": [],
      "source": []
    },
    {
      "cell_type": "markdown",
      "source": [
        "# **Librerías**"
      ],
      "metadata": {
        "id": "Pkrx0Tvwm7qC"
      }
    },
    {
      "cell_type": "code",
      "source": [
        "import nltk\n",
        "nltk.download(\"all\", quiet=True)"
      ],
      "metadata": {
        "colab": {
          "base_uri": "https://localhost:8080/"
        },
        "id": "dyhqP5N6mquK",
        "outputId": "9a2ebd58-753c-452d-e32f-345bcf7ee090"
      },
      "execution_count": 17,
      "outputs": [
        {
          "output_type": "execute_result",
          "data": {
            "text/plain": [
              "True"
            ]
          },
          "metadata": {},
          "execution_count": 17
        }
      ]
    },
    {
      "cell_type": "code",
      "source": [
        "#Analisis de data\n",
        "import matplotlib.pyplot as plt\n",
        "from collections import Counter\n",
        "\n",
        "\n",
        "from nltk.corpus import stopwords\n",
        "from nltk import word_tokenize\n",
        "import string #puntuacion\n",
        "from nltk.stem import WordNetLemmatizer #Lematizador\n",
        "\n",
        "#Vectorizar la data a numeros para que el modelo lo entienda\n",
        "from sklearn.feature_extraction.text import CountVectorizer, TfidfVectorizer\n",
        "import gensim\n",
        "from gensim.models import Word2Vec\n",
        "\n",
        "\n",
        "#MODELOS\n",
        "#Búsqueda hiperparametros\n",
        "from sklearn.model_selection import ParameterGrid\n",
        "\n",
        "#XGBoost\n",
        "from xgboost import XGBClassifier"
      ],
      "metadata": {
        "id": "zegViOMLnBWT"
      },
      "execution_count": 18,
      "outputs": []
    },
    {
      "cell_type": "code",
      "source": [
        "!python -m spacy download en_core_web_sm --quiet\n",
        "import spacy\n",
        "import wordcloud"
      ],
      "metadata": {
        "colab": {
          "base_uri": "https://localhost:8080/"
        },
        "id": "Cfg3XSVQpT4C",
        "outputId": "87efb6e0-256c-415d-c90c-bd4a59fb4d1b"
      },
      "execution_count": 19,
      "outputs": [
        {
          "output_type": "stream",
          "name": "stdout",
          "text": [
            "2023-09-09 03:27:54.207256: I tensorflow/core/platform/cpu_feature_guard.cc:182] This TensorFlow binary is optimized to use available CPU instructions in performance-critical operations.\n",
            "To enable the following instructions: AVX2 FMA, in other operations, rebuild TensorFlow with the appropriate compiler flags.\n",
            "2023-09-09 03:27:55.351602: W tensorflow/compiler/tf2tensorrt/utils/py_utils.cc:38] TF-TRT Warning: Could not find TensorRT\n",
            "\u001b[2K     \u001b[90m━━━━━━━━━━━━━━━━━━━━━━━━━━━━━━━━━━━━━━━━\u001b[0m \u001b[32m12.8/12.8 MB\u001b[0m \u001b[31m12.6 MB/s\u001b[0m eta \u001b[36m0:00:00\u001b[0m\n",
            "\u001b[?25h\u001b[38;5;2m✔ Download and installation successful\u001b[0m\n",
            "You can now load the package via spacy.load('en_core_web_sm')\n"
          ]
        }
      ]
    },
    {
      "cell_type": "markdown",
      "source": [
        "# **Analisis de Data**"
      ],
      "metadata": {
        "id": "wgGLbBE9tx-E"
      }
    },
    {
      "cell_type": "code",
      "source": [
        "dataTraining.describe()"
      ],
      "metadata": {
        "colab": {
          "base_uri": "https://localhost:8080/"
        },
        "id": "qA_l1MtRWH2H",
        "outputId": "a33fbfda-0f29-412e-f032-00a8ddfa5233"
      },
      "execution_count": null,
      "outputs": [
        {
          "output_type": "execute_result",
          "data": {
            "text/plain": [
              "              year       rating\n",
              "count  7895.000000  7895.000000\n",
              "mean   1989.726409     6.402812\n",
              "std      22.660717     1.078260\n",
              "min    1894.000000     1.200000\n",
              "25%    1980.000000     5.800000\n",
              "50%    1997.000000     6.500000\n",
              "75%    2007.000000     7.200000\n",
              "max    2015.000000     9.300000"
            ],
            "text/html": [
              "\n",
              "  <div id=\"df-6d866453-2cb1-402b-8442-c75f4d7bd22c\" class=\"colab-df-container\">\n",
              "    <div>\n",
              "<style scoped>\n",
              "    .dataframe tbody tr th:only-of-type {\n",
              "        vertical-align: middle;\n",
              "    }\n",
              "\n",
              "    .dataframe tbody tr th {\n",
              "        vertical-align: top;\n",
              "    }\n",
              "\n",
              "    .dataframe thead th {\n",
              "        text-align: right;\n",
              "    }\n",
              "</style>\n",
              "<table border=\"1\" class=\"dataframe\">\n",
              "  <thead>\n",
              "    <tr style=\"text-align: right;\">\n",
              "      <th></th>\n",
              "      <th>year</th>\n",
              "      <th>rating</th>\n",
              "    </tr>\n",
              "  </thead>\n",
              "  <tbody>\n",
              "    <tr>\n",
              "      <th>count</th>\n",
              "      <td>7895.000000</td>\n",
              "      <td>7895.000000</td>\n",
              "    </tr>\n",
              "    <tr>\n",
              "      <th>mean</th>\n",
              "      <td>1989.726409</td>\n",
              "      <td>6.402812</td>\n",
              "    </tr>\n",
              "    <tr>\n",
              "      <th>std</th>\n",
              "      <td>22.660717</td>\n",
              "      <td>1.078260</td>\n",
              "    </tr>\n",
              "    <tr>\n",
              "      <th>min</th>\n",
              "      <td>1894.000000</td>\n",
              "      <td>1.200000</td>\n",
              "    </tr>\n",
              "    <tr>\n",
              "      <th>25%</th>\n",
              "      <td>1980.000000</td>\n",
              "      <td>5.800000</td>\n",
              "    </tr>\n",
              "    <tr>\n",
              "      <th>50%</th>\n",
              "      <td>1997.000000</td>\n",
              "      <td>6.500000</td>\n",
              "    </tr>\n",
              "    <tr>\n",
              "      <th>75%</th>\n",
              "      <td>2007.000000</td>\n",
              "      <td>7.200000</td>\n",
              "    </tr>\n",
              "    <tr>\n",
              "      <th>max</th>\n",
              "      <td>2015.000000</td>\n",
              "      <td>9.300000</td>\n",
              "    </tr>\n",
              "  </tbody>\n",
              "</table>\n",
              "</div>\n",
              "    <div class=\"colab-df-buttons\">\n",
              "\n",
              "  <div class=\"colab-df-container\">\n",
              "    <button class=\"colab-df-convert\" onclick=\"convertToInteractive('df-6d866453-2cb1-402b-8442-c75f4d7bd22c')\"\n",
              "            title=\"Convert this dataframe to an interactive table.\"\n",
              "            style=\"display:none;\">\n",
              "\n",
              "  <svg xmlns=\"http://www.w3.org/2000/svg\" height=\"24px\" viewBox=\"0 -960 960 960\">\n",
              "    <path d=\"M120-120v-720h720v720H120Zm60-500h600v-160H180v160Zm220 220h160v-160H400v160Zm0 220h160v-160H400v160ZM180-400h160v-160H180v160Zm440 0h160v-160H620v160ZM180-180h160v-160H180v160Zm440 0h160v-160H620v160Z\"/>\n",
              "  </svg>\n",
              "    </button>\n",
              "\n",
              "  <style>\n",
              "    .colab-df-container {\n",
              "      display:flex;\n",
              "      gap: 12px;\n",
              "    }\n",
              "\n",
              "    .colab-df-convert {\n",
              "      background-color: #E8F0FE;\n",
              "      border: none;\n",
              "      border-radius: 50%;\n",
              "      cursor: pointer;\n",
              "      display: none;\n",
              "      fill: #1967D2;\n",
              "      height: 32px;\n",
              "      padding: 0 0 0 0;\n",
              "      width: 32px;\n",
              "    }\n",
              "\n",
              "    .colab-df-convert:hover {\n",
              "      background-color: #E2EBFA;\n",
              "      box-shadow: 0px 1px 2px rgba(60, 64, 67, 0.3), 0px 1px 3px 1px rgba(60, 64, 67, 0.15);\n",
              "      fill: #174EA6;\n",
              "    }\n",
              "\n",
              "    .colab-df-buttons div {\n",
              "      margin-bottom: 4px;\n",
              "    }\n",
              "\n",
              "    [theme=dark] .colab-df-convert {\n",
              "      background-color: #3B4455;\n",
              "      fill: #D2E3FC;\n",
              "    }\n",
              "\n",
              "    [theme=dark] .colab-df-convert:hover {\n",
              "      background-color: #434B5C;\n",
              "      box-shadow: 0px 1px 3px 1px rgba(0, 0, 0, 0.15);\n",
              "      filter: drop-shadow(0px 1px 2px rgba(0, 0, 0, 0.3));\n",
              "      fill: #FFFFFF;\n",
              "    }\n",
              "  </style>\n",
              "\n",
              "    <script>\n",
              "      const buttonEl =\n",
              "        document.querySelector('#df-6d866453-2cb1-402b-8442-c75f4d7bd22c button.colab-df-convert');\n",
              "      buttonEl.style.display =\n",
              "        google.colab.kernel.accessAllowed ? 'block' : 'none';\n",
              "\n",
              "      async function convertToInteractive(key) {\n",
              "        const element = document.querySelector('#df-6d866453-2cb1-402b-8442-c75f4d7bd22c');\n",
              "        const dataTable =\n",
              "          await google.colab.kernel.invokeFunction('convertToInteractive',\n",
              "                                                    [key], {});\n",
              "        if (!dataTable) return;\n",
              "\n",
              "        const docLinkHtml = 'Like what you see? Visit the ' +\n",
              "          '<a target=\"_blank\" href=https://colab.research.google.com/notebooks/data_table.ipynb>data table notebook</a>'\n",
              "          + ' to learn more about interactive tables.';\n",
              "        element.innerHTML = '';\n",
              "        dataTable['output_type'] = 'display_data';\n",
              "        await google.colab.output.renderOutput(dataTable, element);\n",
              "        const docLink = document.createElement('div');\n",
              "        docLink.innerHTML = docLinkHtml;\n",
              "        element.appendChild(docLink);\n",
              "      }\n",
              "    </script>\n",
              "  </div>\n",
              "\n",
              "\n",
              "<div id=\"df-6c2aa216-6d30-4431-a8cd-f7557d29f6d0\">\n",
              "  <button class=\"colab-df-quickchart\" onclick=\"quickchart('df-6c2aa216-6d30-4431-a8cd-f7557d29f6d0')\"\n",
              "            title=\"Suggest charts.\"\n",
              "            style=\"display:none;\">\n",
              "\n",
              "<svg xmlns=\"http://www.w3.org/2000/svg\" height=\"24px\"viewBox=\"0 0 24 24\"\n",
              "     width=\"24px\">\n",
              "    <g>\n",
              "        <path d=\"M19 3H5c-1.1 0-2 .9-2 2v14c0 1.1.9 2 2 2h14c1.1 0 2-.9 2-2V5c0-1.1-.9-2-2-2zM9 17H7v-7h2v7zm4 0h-2V7h2v10zm4 0h-2v-4h2v4z\"/>\n",
              "    </g>\n",
              "</svg>\n",
              "  </button>\n",
              "\n",
              "<style>\n",
              "  .colab-df-quickchart {\n",
              "      --bg-color: #E8F0FE;\n",
              "      --fill-color: #1967D2;\n",
              "      --hover-bg-color: #E2EBFA;\n",
              "      --hover-fill-color: #174EA6;\n",
              "      --disabled-fill-color: #AAA;\n",
              "      --disabled-bg-color: #DDD;\n",
              "  }\n",
              "\n",
              "  [theme=dark] .colab-df-quickchart {\n",
              "      --bg-color: #3B4455;\n",
              "      --fill-color: #D2E3FC;\n",
              "      --hover-bg-color: #434B5C;\n",
              "      --hover-fill-color: #FFFFFF;\n",
              "      --disabled-bg-color: #3B4455;\n",
              "      --disabled-fill-color: #666;\n",
              "  }\n",
              "\n",
              "  .colab-df-quickchart {\n",
              "    background-color: var(--bg-color);\n",
              "    border: none;\n",
              "    border-radius: 50%;\n",
              "    cursor: pointer;\n",
              "    display: none;\n",
              "    fill: var(--fill-color);\n",
              "    height: 32px;\n",
              "    padding: 0;\n",
              "    width: 32px;\n",
              "  }\n",
              "\n",
              "  .colab-df-quickchart:hover {\n",
              "    background-color: var(--hover-bg-color);\n",
              "    box-shadow: 0 1px 2px rgba(60, 64, 67, 0.3), 0 1px 3px 1px rgba(60, 64, 67, 0.15);\n",
              "    fill: var(--button-hover-fill-color);\n",
              "  }\n",
              "\n",
              "  .colab-df-quickchart-complete:disabled,\n",
              "  .colab-df-quickchart-complete:disabled:hover {\n",
              "    background-color: var(--disabled-bg-color);\n",
              "    fill: var(--disabled-fill-color);\n",
              "    box-shadow: none;\n",
              "  }\n",
              "\n",
              "  .colab-df-spinner {\n",
              "    border: 2px solid var(--fill-color);\n",
              "    border-color: transparent;\n",
              "    border-bottom-color: var(--fill-color);\n",
              "    animation:\n",
              "      spin 1s steps(1) infinite;\n",
              "  }\n",
              "\n",
              "  @keyframes spin {\n",
              "    0% {\n",
              "      border-color: transparent;\n",
              "      border-bottom-color: var(--fill-color);\n",
              "      border-left-color: var(--fill-color);\n",
              "    }\n",
              "    20% {\n",
              "      border-color: transparent;\n",
              "      border-left-color: var(--fill-color);\n",
              "      border-top-color: var(--fill-color);\n",
              "    }\n",
              "    30% {\n",
              "      border-color: transparent;\n",
              "      border-left-color: var(--fill-color);\n",
              "      border-top-color: var(--fill-color);\n",
              "      border-right-color: var(--fill-color);\n",
              "    }\n",
              "    40% {\n",
              "      border-color: transparent;\n",
              "      border-right-color: var(--fill-color);\n",
              "      border-top-color: var(--fill-color);\n",
              "    }\n",
              "    60% {\n",
              "      border-color: transparent;\n",
              "      border-right-color: var(--fill-color);\n",
              "    }\n",
              "    80% {\n",
              "      border-color: transparent;\n",
              "      border-right-color: var(--fill-color);\n",
              "      border-bottom-color: var(--fill-color);\n",
              "    }\n",
              "    90% {\n",
              "      border-color: transparent;\n",
              "      border-bottom-color: var(--fill-color);\n",
              "    }\n",
              "  }\n",
              "</style>\n",
              "\n",
              "  <script>\n",
              "    async function quickchart(key) {\n",
              "      const quickchartButtonEl =\n",
              "        document.querySelector('#' + key + ' button');\n",
              "      quickchartButtonEl.disabled = true;  // To prevent multiple clicks.\n",
              "      quickchartButtonEl.classList.add('colab-df-spinner');\n",
              "      try {\n",
              "        const charts = await google.colab.kernel.invokeFunction(\n",
              "            'suggestCharts', [key], {});\n",
              "      } catch (error) {\n",
              "        console.error('Error during call to suggestCharts:', error);\n",
              "      }\n",
              "      quickchartButtonEl.classList.remove('colab-df-spinner');\n",
              "      quickchartButtonEl.classList.add('colab-df-quickchart-complete');\n",
              "    }\n",
              "    (() => {\n",
              "      let quickchartButtonEl =\n",
              "        document.querySelector('#df-6c2aa216-6d30-4431-a8cd-f7557d29f6d0 button');\n",
              "      quickchartButtonEl.style.display =\n",
              "        google.colab.kernel.accessAllowed ? 'block' : 'none';\n",
              "    })();\n",
              "  </script>\n",
              "</div>\n",
              "    </div>\n",
              "  </div>\n"
            ]
          },
          "metadata": {},
          "execution_count": 8
        }
      ]
    },
    {
      "cell_type": "markdown",
      "source": [
        "Años de creación de peliculas"
      ],
      "metadata": {
        "id": "F_dOSLTfujTh"
      }
    },
    {
      "cell_type": "code",
      "source": [
        "dataTraining['year'].min()"
      ],
      "metadata": {
        "colab": {
          "base_uri": "https://localhost:8080/"
        },
        "id": "7GD8J-oQUJ12",
        "outputId": "a450fdf2-8e40-4fdc-c853-e45cb021a0c8"
      },
      "execution_count": null,
      "outputs": [
        {
          "output_type": "execute_result",
          "data": {
            "text/plain": [
              "1894"
            ]
          },
          "metadata": {},
          "execution_count": 9
        }
      ]
    },
    {
      "cell_type": "code",
      "source": [
        "edades = dataTraining['year']\n",
        "\n",
        "intervalos = 30 #intervalos\n",
        "\n",
        "plt.hist(x=edades, bins=intervalos, color='#F2AB6D', rwidth=0.85)\n",
        "plt.title('Histograma de años de las películas')\n",
        "plt.xlabel('Años')\n",
        "plt.ylabel('Frecuencia')\n",
        "#plot.xticks(intervalos)\n",
        "\n",
        "plt.show() #dibujamos el histograma"
      ],
      "metadata": {
        "colab": {
          "base_uri": "https://localhost:8080/"
        },
        "id": "dWF01a3dt2v4",
        "outputId": "f2f560e2-d13e-44eb-be21-f4c7dbd7e01c"
      },
      "execution_count": null,
      "outputs": [
        {
          "output_type": "display_data",
          "data": {
            "text/plain": [
              "<Figure size 640x480 with 1 Axes>"
            ],
            "image/png": "[encoded data removed]"
          },
          "metadata": {}
        }
      ]
    },
    {
      "cell_type": "markdown",
      "source": [
        "Rating de las películas"
      ],
      "metadata": {
        "id": "1MXAS3bXv0Ol"
      }
    },
    {
      "cell_type": "code",
      "source": [
        "rating = dataTraining['rating']\n",
        "\n",
        "intervalos = 10 #intervalos\n",
        "\n",
        "plt.hist(x=rating, bins=intervalos, color='red', rwidth=0.85)\n",
        "plt.title('Histograma de rating de las películas')\n",
        "plt.xlabel('Años')\n",
        "plt.ylabel('Frecuencia')\n",
        "#plot.xticks(intervalos)\n",
        "\n",
        "plt.show() #dibujamos el histograma"
      ],
      "metadata": {
        "colab": {
          "base_uri": "https://localhost:8080/"
        },
        "id": "xt44kpZIvz1F",
        "outputId": "a5294a8b-1ad6-442c-c7ef-eaacf9b295d2"
      },
      "execution_count": null,
      "outputs": [
        {
          "output_type": "display_data",
          "data": {
            "text/plain": [
              "<Figure size 640x480 with 1 Axes>"
            ],
            "image/png": "[encoded data removed]"
          },
          "metadata": {}
        }
      ]
    },
    {
      "cell_type": "markdown",
      "source": [
        "Revisión de géneros"
      ],
      "metadata": {
        "id": "YNljeAF7w5Nc"
      }
    },
    {
      "cell_type": "code",
      "source": [
        "def quitar(text):\n",
        "  text = str(text)\n",
        "  text = ''.join([word for word in text if word not in string.punctuation])\n",
        "  return text\n",
        "\n",
        "# Tokenizar los géneros\n",
        "Generos = pd.DataFrame(dataTraining['genres'].apply(lambda x: [word.lower() for word in x])) # Mostrar el DataFrame con géneros tokenizados\n",
        "Generos = Generos['genres'].apply(quitar)\n",
        "\n",
        "p_data = Generos.tolist()\n",
        "\n",
        "# Combina todos los textos en un solo gran texto\n",
        "corpus = ' '.join(p_data)\n",
        "\n",
        "# Tokeniza\n",
        "tokens = corpus.split()\n",
        "\n",
        "# Calcula la frecuencia de las palabras sin preprocesar\n",
        "word_frequency = Counter(tokens)\n",
        "\n",
        "# Ordena las palabras por frecuencia en orden descendente\n",
        "sorted_word_frequency = dict(sorted(word_frequency.items(), key=lambda x: x[1], reverse=True))\n",
        "\n",
        "# Obtén las palabras y sus frecuencias ordenadas\n",
        "words = list(sorted_word_frequency.keys())\n",
        "frequencies = list(sorted_word_frequency.values())\n",
        "\n",
        "# gráfico de barras de frecuencias\n",
        "plt.figure(figsize=(10, 5))\n",
        "plt.bar(words[:50], frequencies[:50], color='green')\n",
        "plt.xlabel('Palabra')\n",
        "plt.ylabel('Frecuencia')\n",
        "plt.title('Gráfico de Frecuencias de Generos')\n",
        "plt.xticks(rotation=90)\n",
        "plt.show()\n",
        "\n"
      ],
      "metadata": {
        "colab": {
          "base_uri": "https://localhost:8080/"
        },
        "id": "a2uVLsGew8i3",
        "outputId": "cdf82eda-783a-496e-b334-ac45676b46ec"
      },
      "execution_count": null,
      "outputs": [
        {
          "output_type": "display_data",
          "data": {
            "text/plain": [
              "<Figure size 1000x500 with 1 Axes>"
            ],
            "image/png": "[encoded data removed]"
          },
          "metadata": {}
        }
      ]
    },
    {
      "cell_type": "markdown",
      "source": [
        "Conocer palabras que más salen"
      ],
      "metadata": {
        "id": "1yv1FuLn1L-a"
      }
    },
    {
      "cell_type": "code",
      "source": [
        "p_data = dataTraining['plot'].tolist()\n",
        "\n",
        "# Combina todos los textos en un solo gran texto\n",
        "corpus = ' '.join(p_data)\n",
        "\n",
        "# Tokeniza\n",
        "tokens = corpus.split()\n",
        "\n",
        "# Calcula la frecuencia de las palabras sin preprocesar\n",
        "word_frequency = Counter(tokens)\n",
        "\n",
        "# Ordena las palabras por frecuencia en orden descendente\n",
        "sorted_word_frequency = dict(sorted(word_frequency.items(), key=lambda x: x[1], reverse=True))\n",
        "\n",
        "# Obtén las palabras y sus frecuencias ordenadas\n",
        "words = list(sorted_word_frequency.keys())\n",
        "frequencies = list(sorted_word_frequency.values())\n",
        "\n",
        "# gráfico de barras de frecuencias\n",
        "plt.figure(figsize=(10, 5))\n",
        "plt.bar(words[:50], frequencies[:50])\n",
        "plt.xlabel('Palabra')\n",
        "plt.ylabel('Frecuencia')\n",
        "plt.title('Gráfico de Frecuencias de todas palabras')\n",
        "plt.xticks(rotation=90)\n",
        "plt.show()"
      ],
      "metadata": {
        "colab": {
          "base_uri": "https://localhost:8080/"
        },
        "id": "CyLHbdWK1SzD",
        "outputId": "265a59be-51ed-4f01-b899-00dfaf613b82"
      },
      "execution_count": null,
      "outputs": [
        {
          "output_type": "display_data",
          "data": {
            "text/plain": [
              "<Figure size 1000x500 with 1 Axes>"
            ],
            "image/png": "[encoded data removed]"
          },
          "metadata": {}
        }
      ]
    },
    {
      "cell_type": "markdown",
      "source": [
        "Conteo de géneros por películas"
      ],
      "metadata": {
        "id": "xq6bduNM4iLp"
      }
    },
    {
      "cell_type": "code",
      "source": [
        "def quitar(text):\n",
        "  text = str(text)\n",
        "  text = ''.join([word for word in text if word not in string.punctuation])\n",
        "  return text\n",
        "\n",
        "def cantidad_gen(vector):\n",
        "  return len(vector)\n",
        "\n",
        "# Tokenizar los géneros\n",
        "genxpeli = pd.DataFrame(dataTraining['genres'].apply(lambda x: [word.lower() for word in x])) # Mostrar el DataFrame con géneros tokenizados\n",
        "genxpeli = genxpeli['genres'].apply(quitar)\n",
        "genxpeli = genxpeli.apply(word_tokenize)\n",
        "genxpeli = genxpeli.apply(cantidad_gen)\n",
        "\n",
        "#Estadisticas basicas\n",
        "print(f'El promedio de generos por pelicula es: {genxpeli.mean()}')\n",
        "print(f'El máximo de generos por pelicula es: {genxpeli.max()}')\n",
        "print(f'El mínimo de generos por pelicula es: {genxpeli.min()}')"
      ],
      "metadata": {
        "colab": {
          "base_uri": "https://localhost:8080/"
        },
        "id": "TtCaR0yg4oVv",
        "outputId": "1d50a765-c6cd-4f2b-c84f-b5993267e267"
      },
      "execution_count": null,
      "outputs": [
        {
          "output_type": "stream",
          "name": "stdout",
          "text": [
            "El promedio de generos por pelicula es: 17.372767574414187\n",
            "El máximo de generos por pelicula es: 65\n",
            "El mínimo de generos por pelicula es: 3\n"
          ]
        }
      ]
    },
    {
      "cell_type": "code",
      "source": [
        "genxpeli=pd.DataFrame(genxpeli)\n",
        "genxpeli"
      ],
      "metadata": {
        "colab": {
          "base_uri": "https://localhost:8080/"
        },
        "id": "5at569KY8B-E",
        "outputId": "f6b69390-a107-4252-9353-9cd36cb4a126"
      },
      "execution_count": null,
      "outputs": [
        {
          "output_type": "execute_result",
          "data": {
            "text/plain": [
              "      genres\n",
              "3107      10\n",
              "900       17\n",
              "6724      21\n",
              "4704       5\n",
              "2582      19\n",
              "...      ...\n",
              "8417      13\n",
              "1592      22\n",
              "1723      36\n",
              "7605      41\n",
              "215       31\n",
              "\n",
              "[7895 rows x 1 columns]"
            ],
            "text/html": [
              "\n",
              "  <div id=\"df-63f8a5c7-5cb9-4e96-aa74-09f527e88ec0\" class=\"colab-df-container\">\n",
              "    <div>\n",
              "<style scoped>\n",
              "    .dataframe tbody tr th:only-of-type {\n",
              "        vertical-align: middle;\n",
              "    }\n",
              "\n",
              "    .dataframe tbody tr th {\n",
              "        vertical-align: top;\n",
              "    }\n",
              "\n",
              "    .dataframe thead th {\n",
              "        text-align: right;\n",
              "    }\n",
              "</style>\n",
              "<table border=\"1\" class=\"dataframe\">\n",
              "  <thead>\n",
              "    <tr style=\"text-align: right;\">\n",
              "      <th></th>\n",
              "      <th>genres</th>\n",
              "    </tr>\n",
              "  </thead>\n",
              "  <tbody>\n",
              "    <tr>\n",
              "      <th>3107</th>\n",
              "      <td>10</td>\n",
              "    </tr>\n",
              "    <tr>\n",
              "      <th>900</th>\n",
              "      <td>17</td>\n",
              "    </tr>\n",
              "    <tr>\n",
              "      <th>6724</th>\n",
              "      <td>21</td>\n",
              "    </tr>\n",
              "    <tr>\n",
              "      <th>4704</th>\n",
              "      <td>5</td>\n",
              "    </tr>\n",
              "    <tr>\n",
              "      <th>2582</th>\n",
              "      <td>19</td>\n",
              "    </tr>\n",
              "    <tr>\n",
              "      <th>...</th>\n",
              "      <td>...</td>\n",
              "    </tr>\n",
              "    <tr>\n",
              "      <th>8417</th>\n",
              "      <td>13</td>\n",
              "    </tr>\n",
              "    <tr>\n",
              "      <th>1592</th>\n",
              "      <td>22</td>\n",
              "    </tr>\n",
              "    <tr>\n",
              "      <th>1723</th>\n",
              "      <td>36</td>\n",
              "    </tr>\n",
              "    <tr>\n",
              "      <th>7605</th>\n",
              "      <td>41</td>\n",
              "    </tr>\n",
              "    <tr>\n",
              "      <th>215</th>\n",
              "      <td>31</td>\n",
              "    </tr>\n",
              "  </tbody>\n",
              "</table>\n",
              "<p>7895 rows × 1 columns</p>\n",
              "</div>\n",
              "    <div class=\"colab-df-buttons\">\n",
              "\n",
              "  <div class=\"colab-df-container\">\n",
              "    <button class=\"colab-df-convert\" onclick=\"convertToInteractive('df-63f8a5c7-5cb9-4e96-aa74-09f527e88ec0')\"\n",
              "            title=\"Convert this dataframe to an interactive table.\"\n",
              "            style=\"display:none;\">\n",
              "\n",
              "  <svg xmlns=\"http://www.w3.org/2000/svg\" height=\"24px\" viewBox=\"0 -960 960 960\">\n",
              "    <path d=\"M120-120v-720h720v720H120Zm60-500h600v-160H180v160Zm220 220h160v-160H400v160Zm0 220h160v-160H400v160ZM180-400h160v-160H180v160Zm440 0h160v-160H620v160ZM180-180h160v-160H180v160Zm440 0h160v-160H620v160Z\"/>\n",
              "  </svg>\n",
              "    </button>\n",
              "\n",
              "  <style>\n",
              "    .colab-df-container {\n",
              "      display:flex;\n",
              "      gap: 12px;\n",
              "    }\n",
              "\n",
              "    .colab-df-convert {\n",
              "      background-color: #E8F0FE;\n",
              "      border: none;\n",
              "      border-radius: 50%;\n",
              "      cursor: pointer;\n",
              "      display: none;\n",
              "      fill: #1967D2;\n",
              "      height: 32px;\n",
              "      padding: 0 0 0 0;\n",
              "      width: 32px;\n",
              "    }\n",
              "\n",
              "    .colab-df-convert:hover {\n",
              "      background-color: #E2EBFA;\n",
              "      box-shadow: 0px 1px 2px rgba(60, 64, 67, 0.3), 0px 1px 3px 1px rgba(60, 64, 67, 0.15);\n",
              "      fill: #174EA6;\n",
              "    }\n",
              "\n",
              "    .colab-df-buttons div {\n",
              "      margin-bottom: 4px;\n",
              "    }\n",
              "\n",
              "    [theme=dark] .colab-df-convert {\n",
              "      background-color: #3B4455;\n",
              "      fill: #D2E3FC;\n",
              "    }\n",
              "\n",
              "    [theme=dark] .colab-df-convert:hover {\n",
              "      background-color: #434B5C;\n",
              "      box-shadow: 0px 1px 3px 1px rgba(0, 0, 0, 0.15);\n",
              "      filter: drop-shadow(0px 1px 2px rgba(0, 0, 0, 0.3));\n",
              "      fill: #FFFFFF;\n",
              "    }\n",
              "  </style>\n",
              "\n",
              "    <script>\n",
              "      const buttonEl =\n",
              "        document.querySelector('#df-63f8a5c7-5cb9-4e96-aa74-09f527e88ec0 button.colab-df-convert');\n",
              "      buttonEl.style.display =\n",
              "        google.colab.kernel.accessAllowed ? 'block' : 'none';\n",
              "\n",
              "      async function convertToInteractive(key) {\n",
              "        const element = document.querySelector('#df-63f8a5c7-5cb9-4e96-aa74-09f527e88ec0');\n",
              "        const dataTable =\n",
              "          await google.colab.kernel.invokeFunction('convertToInteractive',\n",
              "                                                    [key], {});\n",
              "        if (!dataTable) return;\n",
              "\n",
              "        const docLinkHtml = 'Like what you see? Visit the ' +\n",
              "          '<a target=\"_blank\" href=https://colab.research.google.com/notebooks/data_table.ipynb>data table notebook</a>'\n",
              "          + ' to learn more about interactive tables.';\n",
              "        element.innerHTML = '';\n",
              "        dataTable['output_type'] = 'display_data';\n",
              "        await google.colab.output.renderOutput(dataTable, element);\n",
              "        const docLink = document.createElement('div');\n",
              "        docLink.innerHTML = docLinkHtml;\n",
              "        element.appendChild(docLink);\n",
              "      }\n",
              "    </script>\n",
              "  </div>\n",
              "\n",
              "\n",
              "<div id=\"df-1a3f6cad-e3af-49a8-95ff-569af7af3867\">\n",
              "  <button class=\"colab-df-quickchart\" onclick=\"quickchart('df-1a3f6cad-e3af-49a8-95ff-569af7af3867')\"\n",
              "            title=\"Suggest charts.\"\n",
              "            style=\"display:none;\">\n",
              "\n",
              "<svg xmlns=\"http://www.w3.org/2000/svg\" height=\"24px\"viewBox=\"0 0 24 24\"\n",
              "     width=\"24px\">\n",
              "    <g>\n",
              "        <path d=\"M19 3H5c-1.1 0-2 .9-2 2v14c0 1.1.9 2 2 2h14c1.1 0 2-.9 2-2V5c0-1.1-.9-2-2-2zM9 17H7v-7h2v7zm4 0h-2V7h2v10zm4 0h-2v-4h2v4z\"/>\n",
              "    </g>\n",
              "</svg>\n",
              "  </button>\n",
              "\n",
              "<style>\n",
              "  .colab-df-quickchart {\n",
              "      --bg-color: #E8F0FE;\n",
              "      --fill-color: #1967D2;\n",
              "      --hover-bg-color: #E2EBFA;\n",
              "      --hover-fill-color: #174EA6;\n",
              "      --disabled-fill-color: #AAA;\n",
              "      --disabled-bg-color: #DDD;\n",
              "  }\n",
              "\n",
              "  [theme=dark] .colab-df-quickchart {\n",
              "      --bg-color: #3B4455;\n",
              "      --fill-color: #D2E3FC;\n",
              "      --hover-bg-color: #434B5C;\n",
              "      --hover-fill-color: #FFFFFF;\n",
              "      --disabled-bg-color: #3B4455;\n",
              "      --disabled-fill-color: #666;\n",
              "  }\n",
              "\n",
              "  .colab-df-quickchart {\n",
              "    background-color: var(--bg-color);\n",
              "    border: none;\n",
              "    border-radius: 50%;\n",
              "    cursor: pointer;\n",
              "    display: none;\n",
              "    fill: var(--fill-color);\n",
              "    height: 32px;\n",
              "    padding: 0;\n",
              "    width: 32px;\n",
              "  }\n",
              "\n",
              "  .colab-df-quickchart:hover {\n",
              "    background-color: var(--hover-bg-color);\n",
              "    box-shadow: 0 1px 2px rgba(60, 64, 67, 0.3), 0 1px 3px 1px rgba(60, 64, 67, 0.15);\n",
              "    fill: var(--button-hover-fill-color);\n",
              "  }\n",
              "\n",
              "  .colab-df-quickchart-complete:disabled,\n",
              "  .colab-df-quickchart-complete:disabled:hover {\n",
              "    background-color: var(--disabled-bg-color);\n",
              "    fill: var(--disabled-fill-color);\n",
              "    box-shadow: none;\n",
              "  }\n",
              "\n",
              "  .colab-df-spinner {\n",
              "    border: 2px solid var(--fill-color);\n",
              "    border-color: transparent;\n",
              "    border-bottom-color: var(--fill-color);\n",
              "    animation:\n",
              "      spin 1s steps(1) infinite;\n",
              "  }\n",
              "\n",
              "  @keyframes spin {\n",
              "    0% {\n",
              "      border-color: transparent;\n",
              "      border-bottom-color: var(--fill-color);\n",
              "      border-left-color: var(--fill-color);\n",
              "    }\n",
              "    20% {\n",
              "      border-color: transparent;\n",
              "      border-left-color: var(--fill-color);\n",
              "      border-top-color: var(--fill-color);\n",
              "    }\n",
              "    30% {\n",
              "      border-color: transparent;\n",
              "      border-left-color: var(--fill-color);\n",
              "      border-top-color: var(--fill-color);\n",
              "      border-right-color: var(--fill-color);\n",
              "    }\n",
              "    40% {\n",
              "      border-color: transparent;\n",
              "      border-right-color: var(--fill-color);\n",
              "      border-top-color: var(--fill-color);\n",
              "    }\n",
              "    60% {\n",
              "      border-color: transparent;\n",
              "      border-right-color: var(--fill-color);\n",
              "    }\n",
              "    80% {\n",
              "      border-color: transparent;\n",
              "      border-right-color: var(--fill-color);\n",
              "      border-bottom-color: var(--fill-color);\n",
              "    }\n",
              "    90% {\n",
              "      border-color: transparent;\n",
              "      border-bottom-color: var(--fill-color);\n",
              "    }\n",
              "  }\n",
              "</style>\n",
              "\n",
              "  <script>\n",
              "    async function quickchart(key) {\n",
              "      const quickchartButtonEl =\n",
              "        document.querySelector('#' + key + ' button');\n",
              "      quickchartButtonEl.disabled = true;  // To prevent multiple clicks.\n",
              "      quickchartButtonEl.classList.add('colab-df-spinner');\n",
              "      try {\n",
              "        const charts = await google.colab.kernel.invokeFunction(\n",
              "            'suggestCharts', [key], {});\n",
              "      } catch (error) {\n",
              "        console.error('Error during call to suggestCharts:', error);\n",
              "      }\n",
              "      quickchartButtonEl.classList.remove('colab-df-spinner');\n",
              "      quickchartButtonEl.classList.add('colab-df-quickchart-complete');\n",
              "    }\n",
              "    (() => {\n",
              "      let quickchartButtonEl =\n",
              "        document.querySelector('#df-1a3f6cad-e3af-49a8-95ff-569af7af3867 button');\n",
              "      quickchartButtonEl.style.display =\n",
              "        google.colab.kernel.accessAllowed ? 'block' : 'none';\n",
              "    })();\n",
              "  </script>\n",
              "</div>\n",
              "    </div>\n",
              "  </div>\n"
            ]
          },
          "metadata": {},
          "execution_count": 15
        }
      ]
    },
    {
      "cell_type": "code",
      "source": [
        "# Calcular las frecuencias de las categorías\n",
        "frecuencias = genxpeli['genres'].value_counts()\n",
        "print(frecuencias)"
      ],
      "metadata": {
        "colab": {
          "base_uri": "https://localhost:8080/"
        },
        "id": "n74rwCep-Dqt",
        "outputId": "0f8a2d50-465e-4b2e-fc6b-331d8d182281"
      },
      "execution_count": null,
      "outputs": [
        {
          "output_type": "stream",
          "name": "stdout",
          "text": [
            "11    745\n",
            "18    676\n",
            "13    625\n",
            "6     488\n",
            "12    463\n",
            "19    449\n",
            "5     441\n",
            "20    383\n",
            "14    297\n",
            "25    292\n",
            "17    263\n",
            "21    262\n",
            "16    260\n",
            "24    251\n",
            "26    234\n",
            "28    168\n",
            "22    167\n",
            "10    166\n",
            "27    142\n",
            "23    138\n",
            "15    133\n",
            "31    112\n",
            "33     83\n",
            "30     81\n",
            "8      76\n",
            "29     72\n",
            "32     71\n",
            "35     62\n",
            "7      55\n",
            "37     49\n",
            "34     46\n",
            "36     28\n",
            "38     17\n",
            "42     15\n",
            "9      14\n",
            "41     12\n",
            "40     12\n",
            "39      9\n",
            "44      6\n",
            "43      5\n",
            "47      5\n",
            "51      5\n",
            "49      4\n",
            "48      3\n",
            "46      2\n",
            "52      2\n",
            "50      1\n",
            "45      1\n",
            "65      1\n",
            "55      1\n",
            "3       1\n",
            "53      1\n",
            "Name: genres, dtype: int64\n"
          ]
        }
      ]
    },
    {
      "cell_type": "code",
      "source": [
        "# Crear el gráfico de barras\n",
        "plt.figure(figsize=(8, 6))\n",
        "plt.bar(frecuencias.index, frecuencias.values, color='pink')\n",
        "\n",
        "# Agregar etiquetas y título\n",
        "plt.xlabel('Cantidad de peliculas')\n",
        "plt.ylabel('Frecuencia')\n",
        "plt.title('Cantidad de géneros relacionados por películas')\n",
        "\n",
        "# Mostrar el gráfico\n",
        "plt.show()"
      ],
      "metadata": {
        "colab": {
          "base_uri": "https://localhost:8080/"
        },
        "id": "csf4f3c87ktH",
        "outputId": "b425d3cb-3c9c-4f45-c78f-57e2e9c92c1b"
      },
      "execution_count": null,
      "outputs": [
        {
          "output_type": "display_data",
          "data": {
            "text/plain": [
              "<Figure size 800x600 with 1 Axes>"
            ],
            "image/png": "[encoded data removed]"
          },
          "metadata": {}
        }
      ]
    },
    {
      "cell_type": "markdown",
      "source": [
        "# **Pre Procesamiento**"
      ],
      "metadata": {
        "id": "r0l3HRpBmnwt"
      }
    },
    {
      "cell_type": "markdown",
      "source": [
        "## ***Revisión de Nulos***\n",
        "\n",
        "Se revisa si existen nulos dentro de la data presentada"
      ],
      "metadata": {
        "id": "KjRCAVQ4wO98"
      }
    },
    {
      "cell_type": "code",
      "source": [
        "pd.DataFrame(dataTraining.isnull().sum(), columns=['Cantidad de nulos'])"
      ],
      "metadata": {
        "colab": {
          "base_uri": "https://localhost:8080/",
          "height": 0
        },
        "id": "t9i9dIiawRSp",
        "outputId": "c09e3691-fbc9-4fc8-d7ea-fe8d56fad0d8"
      },
      "execution_count": 20,
      "outputs": [
        {
          "output_type": "execute_result",
          "data": {
            "text/plain": [
              "        Cantidad de nulos\n",
              "year                    0\n",
              "title                   0\n",
              "plot                    0\n",
              "genres                  0\n",
              "rating                  0"
            ],
            "text/html": [
              "\n",
              "  <div id=\"df-1fea5bfb-99a2-4084-ba38-3b53a9083b0b\" class=\"colab-df-container\">\n",
              "    <div>\n",
              "<style scoped>\n",
              "    .dataframe tbody tr th:only-of-type {\n",
              "        vertical-align: middle;\n",
              "    }\n",
              "\n",
              "    .dataframe tbody tr th {\n",
              "        vertical-align: top;\n",
              "    }\n",
              "\n",
              "    .dataframe thead th {\n",
              "        text-align: right;\n",
              "    }\n",
              "</style>\n",
              "<table border=\"1\" class=\"dataframe\">\n",
              "  <thead>\n",
              "    <tr style=\"text-align: right;\">\n",
              "      <th></th>\n",
              "      <th>Cantidad de nulos</th>\n",
              "    </tr>\n",
              "  </thead>\n",
              "  <tbody>\n",
              "    <tr>\n",
              "      <th>year</th>\n",
              "      <td>0</td>\n",
              "    </tr>\n",
              "    <tr>\n",
              "      <th>title</th>\n",
              "      <td>0</td>\n",
              "    </tr>\n",
              "    <tr>\n",
              "      <th>plot</th>\n",
              "      <td>0</td>\n",
              "    </tr>\n",
              "    <tr>\n",
              "      <th>genres</th>\n",
              "      <td>0</td>\n",
              "    </tr>\n",
              "    <tr>\n",
              "      <th>rating</th>\n",
              "      <td>0</td>\n",
              "    </tr>\n",
              "  </tbody>\n",
              "</table>\n",
              "</div>\n",
              "    <div class=\"colab-df-buttons\">\n",
              "\n",
              "  <div class=\"colab-df-container\">\n",
              "    <button class=\"colab-df-convert\" onclick=\"convertToInteractive('df-1fea5bfb-99a2-4084-ba38-3b53a9083b0b')\"\n",
              "            title=\"Convert this dataframe to an interactive table.\"\n",
              "            style=\"display:none;\">\n",
              "\n",
              "  <svg xmlns=\"http://www.w3.org/2000/svg\" height=\"24px\" viewBox=\"0 -960 960 960\">\n",
              "    <path d=\"M120-120v-720h720v720H120Zm60-500h600v-160H180v160Zm220 220h160v-160H400v160Zm0 220h160v-160H400v160ZM180-400h160v-160H180v160Zm440 0h160v-160H620v160ZM180-180h160v-160H180v160Zm440 0h160v-160H620v160Z\"/>\n",
              "  </svg>\n",
              "    </button>\n",
              "\n",
              "  <style>\n",
              "    .colab-df-container {\n",
              "      display:flex;\n",
              "      gap: 12px;\n",
              "    }\n",
              "\n",
              "    .colab-df-convert {\n",
              "      background-color: #E8F0FE;\n",
              "      border: none;\n",
              "      border-radius: 50%;\n",
              "      cursor: pointer;\n",
              "      display: none;\n",
              "      fill: #1967D2;\n",
              "      height: 32px;\n",
              "      padding: 0 0 0 0;\n",
              "      width: 32px;\n",
              "    }\n",
              "\n",
              "    .colab-df-convert:hover {\n",
              "      background-color: #E2EBFA;\n",
              "      box-shadow: 0px 1px 2px rgba(60, 64, 67, 0.3), 0px 1px 3px 1px rgba(60, 64, 67, 0.15);\n",
              "      fill: #174EA6;\n",
              "    }\n",
              "\n",
              "    .colab-df-buttons div {\n",
              "      margin-bottom: 4px;\n",
              "    }\n",
              "\n",
              "    [theme=dark] .colab-df-convert {\n",
              "      background-color: #3B4455;\n",
              "      fill: #D2E3FC;\n",
              "    }\n",
              "\n",
              "    [theme=dark] .colab-df-convert:hover {\n",
              "      background-color: #434B5C;\n",
              "      box-shadow: 0px 1px 3px 1px rgba(0, 0, 0, 0.15);\n",
              "      filter: drop-shadow(0px 1px 2px rgba(0, 0, 0, 0.3));\n",
              "      fill: #FFFFFF;\n",
              "    }\n",
              "  </style>\n",
              "\n",
              "    <script>\n",
              "      const buttonEl =\n",
              "        document.querySelector('#df-1fea5bfb-99a2-4084-ba38-3b53a9083b0b button.colab-df-convert');\n",
              "      buttonEl.style.display =\n",
              "        google.colab.kernel.accessAllowed ? 'block' : 'none';\n",
              "\n",
              "      async function convertToInteractive(key) {\n",
              "        const element = document.querySelector('#df-1fea5bfb-99a2-4084-ba38-3b53a9083b0b');\n",
              "        const dataTable =\n",
              "          await google.colab.kernel.invokeFunction('convertToInteractive',\n",
              "                                                    [key], {});\n",
              "        if (!dataTable) return;\n",
              "\n",
              "        const docLinkHtml = 'Like what you see? Visit the ' +\n",
              "          '<a target=\"_blank\" href=https://colab.research.google.com/notebooks/data_table.ipynb>data table notebook</a>'\n",
              "          + ' to learn more about interactive tables.';\n",
              "        element.innerHTML = '';\n",
              "        dataTable['output_type'] = 'display_data';\n",
              "        await google.colab.output.renderOutput(dataTable, element);\n",
              "        const docLink = document.createElement('div');\n",
              "        docLink.innerHTML = docLinkHtml;\n",
              "        element.appendChild(docLink);\n",
              "      }\n",
              "    </script>\n",
              "  </div>\n",
              "\n",
              "\n",
              "<div id=\"df-44763041-835d-42c5-8ffe-5e441a1bb7e3\">\n",
              "  <button class=\"colab-df-quickchart\" onclick=\"quickchart('df-44763041-835d-42c5-8ffe-5e441a1bb7e3')\"\n",
              "            title=\"Suggest charts.\"\n",
              "            style=\"display:none;\">\n",
              "\n",
              "<svg xmlns=\"http://www.w3.org/2000/svg\" height=\"24px\"viewBox=\"0 0 24 24\"\n",
              "     width=\"24px\">\n",
              "    <g>\n",
              "        <path d=\"M19 3H5c-1.1 0-2 .9-2 2v14c0 1.1.9 2 2 2h14c1.1 0 2-.9 2-2V5c0-1.1-.9-2-2-2zM9 17H7v-7h2v7zm4 0h-2V7h2v10zm4 0h-2v-4h2v4z\"/>\n",
              "    </g>\n",
              "</svg>\n",
              "  </button>\n",
              "\n",
              "<style>\n",
              "  .colab-df-quickchart {\n",
              "      --bg-color: #E8F0FE;\n",
              "      --fill-color: #1967D2;\n",
              "      --hover-bg-color: #E2EBFA;\n",
              "      --hover-fill-color: #174EA6;\n",
              "      --disabled-fill-color: #AAA;\n",
              "      --disabled-bg-color: #DDD;\n",
              "  }\n",
              "\n",
              "  [theme=dark] .colab-df-quickchart {\n",
              "      --bg-color: #3B4455;\n",
              "      --fill-color: #D2E3FC;\n",
              "      --hover-bg-color: #434B5C;\n",
              "      --hover-fill-color: #FFFFFF;\n",
              "      --disabled-bg-color: #3B4455;\n",
              "      --disabled-fill-color: #666;\n",
              "  }\n",
              "\n",
              "  .colab-df-quickchart {\n",
              "    background-color: var(--bg-color);\n",
              "    border: none;\n",
              "    border-radius: 50%;\n",
              "    cursor: pointer;\n",
              "    display: none;\n",
              "    fill: var(--fill-color);\n",
              "    height: 32px;\n",
              "    padding: 0;\n",
              "    width: 32px;\n",
              "  }\n",
              "\n",
              "  .colab-df-quickchart:hover {\n",
              "    background-color: var(--hover-bg-color);\n",
              "    box-shadow: 0 1px 2px rgba(60, 64, 67, 0.3), 0 1px 3px 1px rgba(60, 64, 67, 0.15);\n",
              "    fill: var(--button-hover-fill-color);\n",
              "  }\n",
              "\n",
              "  .colab-df-quickchart-complete:disabled,\n",
              "  .colab-df-quickchart-complete:disabled:hover {\n",
              "    background-color: var(--disabled-bg-color);\n",
              "    fill: var(--disabled-fill-color);\n",
              "    box-shadow: none;\n",
              "  }\n",
              "\n",
              "  .colab-df-spinner {\n",
              "    border: 2px solid var(--fill-color);\n",
              "    border-color: transparent;\n",
              "    border-bottom-color: var(--fill-color);\n",
              "    animation:\n",
              "      spin 1s steps(1) infinite;\n",
              "  }\n",
              "\n",
              "  @keyframes spin {\n",
              "    0% {\n",
              "      border-color: transparent;\n",
              "      border-bottom-color: var(--fill-color);\n",
              "      border-left-color: var(--fill-color);\n",
              "    }\n",
              "    20% {\n",
              "      border-color: transparent;\n",
              "      border-left-color: var(--fill-color);\n",
              "      border-top-color: var(--fill-color);\n",
              "    }\n",
              "    30% {\n",
              "      border-color: transparent;\n",
              "      border-left-color: var(--fill-color);\n",
              "      border-top-color: var(--fill-color);\n",
              "      border-right-color: var(--fill-color);\n",
              "    }\n",
              "    40% {\n",
              "      border-color: transparent;\n",
              "      border-right-color: var(--fill-color);\n",
              "      border-top-color: var(--fill-color);\n",
              "    }\n",
              "    60% {\n",
              "      border-color: transparent;\n",
              "      border-right-color: var(--fill-color);\n",
              "    }\n",
              "    80% {\n",
              "      border-color: transparent;\n",
              "      border-right-color: var(--fill-color);\n",
              "      border-bottom-color: var(--fill-color);\n",
              "    }\n",
              "    90% {\n",
              "      border-color: transparent;\n",
              "      border-bottom-color: var(--fill-color);\n",
              "    }\n",
              "  }\n",
              "</style>\n",
              "\n",
              "  <script>\n",
              "    async function quickchart(key) {\n",
              "      const quickchartButtonEl =\n",
              "        document.querySelector('#' + key + ' button');\n",
              "      quickchartButtonEl.disabled = true;  // To prevent multiple clicks.\n",
              "      quickchartButtonEl.classList.add('colab-df-spinner');\n",
              "      try {\n",
              "        const charts = await google.colab.kernel.invokeFunction(\n",
              "            'suggestCharts', [key], {});\n",
              "      } catch (error) {\n",
              "        console.error('Error during call to suggestCharts:', error);\n",
              "      }\n",
              "      quickchartButtonEl.classList.remove('colab-df-spinner');\n",
              "      quickchartButtonEl.classList.add('colab-df-quickchart-complete');\n",
              "    }\n",
              "    (() => {\n",
              "      let quickchartButtonEl =\n",
              "        document.querySelector('#df-44763041-835d-42c5-8ffe-5e441a1bb7e3 button');\n",
              "      quickchartButtonEl.style.display =\n",
              "        google.colab.kernel.accessAllowed ? 'block' : 'none';\n",
              "    })();\n",
              "  </script>\n",
              "</div>\n",
              "    </div>\n",
              "  </div>\n"
            ]
          },
          "metadata": {},
          "execution_count": 20
        }
      ]
    },
    {
      "cell_type": "markdown",
      "source": [
        "## ***Pre Procesamiento Paso a Paso de lo que se hará en el código***\n",
        "\n",
        "A continuación se mostrará el paso a paso de cómo funcionaría la funcón que pre procesará la data deseada"
      ],
      "metadata": {
        "id": "bivyivY_tO03"
      }
    },
    {
      "cell_type": "markdown",
      "source": [
        "A continuación se presenta el código de todo el preprocesamiento que se le realizará a la data, para tal motivo se empleará sólo una película."
      ],
      "metadata": {
        "id": "rxtUV_GAq1Er"
      }
    },
    {
      "cell_type": "code",
      "source": [
        "#Tomar una película de ejemplo\n",
        "pelicula_ejemplo = dataTraining['plot'][0]\n",
        "pelicula_ejemplo"
      ],
      "metadata": {
        "colab": {
          "base_uri": "https://localhost:8080/",
          "height": 0
        },
        "id": "BPV9qErfrI7l",
        "outputId": "b409b868-a713-425b-aebc-edee10a216bb"
      },
      "execution_count": 21,
      "outputs": [
        {
          "output_type": "execute_result",
          "data": {
            "text/plain": [
              "\"major benson winifred payne is being discharged from the marines .  payne is a killin '  machine ,  but the wars of the world are no longer fought on the battlefield .  a career marine ,  he has no idea what to do as a civilian ,  so his commander finds him a job  -  commanding officer of a local school ' s jrotc program ,  a bunch or ragtag losers with no hope .  using such teaching tools as live grenades and real bullets ,  payne starts to instill the corp with some hope .  but when payne is recalled to fight in bosnia ,  will he leave the corp that has just started to believe in him ,  or will he find out that killin '  ain ' t much of a livin '  ?\""
            ],
            "application/vnd.google.colaboratory.intrinsic+json": {
              "type": "string"
            }
          },
          "metadata": {},
          "execution_count": 21
        }
      ]
    },
    {
      "cell_type": "markdown",
      "source": [
        "Primero se pará todo a minúscula"
      ],
      "metadata": {
        "id": "yDbGYGxbrXKY"
      }
    },
    {
      "cell_type": "code",
      "source": [
        "pelicula_ejemplo = pelicula_ejemplo.lower()\n",
        "pelicula_ejemplo"
      ],
      "metadata": {
        "colab": {
          "base_uri": "https://localhost:8080/",
          "height": 0
        },
        "id": "PiGeEACWrZrv",
        "outputId": "d6032c42-acd5-43b7-82f3-cfeb6f5bcb99"
      },
      "execution_count": 22,
      "outputs": [
        {
          "output_type": "execute_result",
          "data": {
            "text/plain": [
              "\"major benson winifred payne is being discharged from the marines .  payne is a killin '  machine ,  but the wars of the world are no longer fought on the battlefield .  a career marine ,  he has no idea what to do as a civilian ,  so his commander finds him a job  -  commanding officer of a local school ' s jrotc program ,  a bunch or ragtag losers with no hope .  using such teaching tools as live grenades and real bullets ,  payne starts to instill the corp with some hope .  but when payne is recalled to fight in bosnia ,  will he leave the corp that has just started to believe in him ,  or will he find out that killin '  ain ' t much of a livin '  ?\""
            ],
            "application/vnd.google.colaboratory.intrinsic+json": {
              "type": "string"
            }
          },
          "metadata": {},
          "execution_count": 22
        }
      ]
    },
    {
      "cell_type": "markdown",
      "source": [
        "Quitar la puntuación"
      ],
      "metadata": {
        "id": "FdV3oxMUrrev"
      }
    },
    {
      "cell_type": "code",
      "source": [
        "pelicula_ejemplo = ''.join([word for word in pelicula_ejemplo if word not in string.punctuation])\n",
        "pelicula_ejemplo"
      ],
      "metadata": {
        "colab": {
          "base_uri": "https://localhost:8080/",
          "height": 0
        },
        "id": "KxAhWTxkrpJX",
        "outputId": "83a04c9d-33aa-47f9-fc1f-f92d0d38c0bf"
      },
      "execution_count": 23,
      "outputs": [
        {
          "output_type": "execute_result",
          "data": {
            "text/plain": [
              "'major benson winifred payne is being discharged from the marines   payne is a killin   machine   but the wars of the world are no longer fought on the battlefield   a career marine   he has no idea what to do as a civilian   so his commander finds him a job    commanding officer of a local school  s jrotc program   a bunch or ragtag losers with no hope   using such teaching tools as live grenades and real bullets   payne starts to instill the corp with some hope   but when payne is recalled to fight in bosnia   will he leave the corp that has just started to believe in him   or will he find out that killin   ain  t much of a livin   '"
            ],
            "application/vnd.google.colaboratory.intrinsic+json": {
              "type": "string"
            }
          },
          "metadata": {},
          "execution_count": 23
        }
      ]
    },
    {
      "cell_type": "markdown",
      "source": [
        "Tokenizar"
      ],
      "metadata": {
        "id": "E0yiqL6pr6F5"
      }
    },
    {
      "cell_type": "code",
      "source": [
        "pelicula_ejemplo = word_tokenize(pelicula_ejemplo)\n",
        "pelicula_ejemplo"
      ],
      "metadata": {
        "colab": {
          "base_uri": "https://localhost:8080/"
        },
        "id": "eGA5h5_vr828",
        "outputId": "c6f197be-b6e1-4f92-f394-152131e97495"
      },
      "execution_count": 24,
      "outputs": [
        {
          "output_type": "execute_result",
          "data": {
            "text/plain": [
              "['major',\n",
              " 'benson',\n",
              " 'winifred',\n",
              " 'payne',\n",
              " 'is',\n",
              " 'being',\n",
              " 'discharged',\n",
              " 'from',\n",
              " 'the',\n",
              " 'marines',\n",
              " 'payne',\n",
              " 'is',\n",
              " 'a',\n",
              " 'killin',\n",
              " 'machine',\n",
              " 'but',\n",
              " 'the',\n",
              " 'wars',\n",
              " 'of',\n",
              " 'the',\n",
              " 'world',\n",
              " 'are',\n",
              " 'no',\n",
              " 'longer',\n",
              " 'fought',\n",
              " 'on',\n",
              " 'the',\n",
              " 'battlefield',\n",
              " 'a',\n",
              " 'career',\n",
              " 'marine',\n",
              " 'he',\n",
              " 'has',\n",
              " 'no',\n",
              " 'idea',\n",
              " 'what',\n",
              " 'to',\n",
              " 'do',\n",
              " 'as',\n",
              " 'a',\n",
              " 'civilian',\n",
              " 'so',\n",
              " 'his',\n",
              " 'commander',\n",
              " 'finds',\n",
              " 'him',\n",
              " 'a',\n",
              " 'job',\n",
              " 'commanding',\n",
              " 'officer',\n",
              " 'of',\n",
              " 'a',\n",
              " 'local',\n",
              " 'school',\n",
              " 's',\n",
              " 'jrotc',\n",
              " 'program',\n",
              " 'a',\n",
              " 'bunch',\n",
              " 'or',\n",
              " 'ragtag',\n",
              " 'losers',\n",
              " 'with',\n",
              " 'no',\n",
              " 'hope',\n",
              " 'using',\n",
              " 'such',\n",
              " 'teaching',\n",
              " 'tools',\n",
              " 'as',\n",
              " 'live',\n",
              " 'grenades',\n",
              " 'and',\n",
              " 'real',\n",
              " 'bullets',\n",
              " 'payne',\n",
              " 'starts',\n",
              " 'to',\n",
              " 'instill',\n",
              " 'the',\n",
              " 'corp',\n",
              " 'with',\n",
              " 'some',\n",
              " 'hope',\n",
              " 'but',\n",
              " 'when',\n",
              " 'payne',\n",
              " 'is',\n",
              " 'recalled',\n",
              " 'to',\n",
              " 'fight',\n",
              " 'in',\n",
              " 'bosnia',\n",
              " 'will',\n",
              " 'he',\n",
              " 'leave',\n",
              " 'the',\n",
              " 'corp',\n",
              " 'that',\n",
              " 'has',\n",
              " 'just',\n",
              " 'started',\n",
              " 'to',\n",
              " 'believe',\n",
              " 'in',\n",
              " 'him',\n",
              " 'or',\n",
              " 'will',\n",
              " 'he',\n",
              " 'find',\n",
              " 'out',\n",
              " 'that',\n",
              " 'killin',\n",
              " 'ain',\n",
              " 't',\n",
              " 'much',\n",
              " 'of',\n",
              " 'a',\n",
              " 'livin']"
            ]
          },
          "metadata": {},
          "execution_count": 24
        }
      ]
    },
    {
      "cell_type": "code",
      "source": [
        "stop_words = set(stopwords.words('english')) #Stopwords\n",
        "pelicula_ejemplo = [word for word in pelicula_ejemplo if word not in stop_words] #quitando stopwords\n",
        "pelicula_ejemplo"
      ],
      "metadata": {
        "colab": {
          "base_uri": "https://localhost:8080/"
        },
        "id": "3pKfs3BgsRMb",
        "outputId": "9f899ab1-b63b-426e-98da-9b674000c9bc"
      },
      "execution_count": 25,
      "outputs": [
        {
          "output_type": "execute_result",
          "data": {
            "text/plain": [
              "['major',\n",
              " 'benson',\n",
              " 'winifred',\n",
              " 'payne',\n",
              " 'discharged',\n",
              " 'marines',\n",
              " 'payne',\n",
              " 'killin',\n",
              " 'machine',\n",
              " 'wars',\n",
              " 'world',\n",
              " 'longer',\n",
              " 'fought',\n",
              " 'battlefield',\n",
              " 'career',\n",
              " 'marine',\n",
              " 'idea',\n",
              " 'civilian',\n",
              " 'commander',\n",
              " 'finds',\n",
              " 'job',\n",
              " 'commanding',\n",
              " 'officer',\n",
              " 'local',\n",
              " 'school',\n",
              " 'jrotc',\n",
              " 'program',\n",
              " 'bunch',\n",
              " 'ragtag',\n",
              " 'losers',\n",
              " 'hope',\n",
              " 'using',\n",
              " 'teaching',\n",
              " 'tools',\n",
              " 'live',\n",
              " 'grenades',\n",
              " 'real',\n",
              " 'bullets',\n",
              " 'payne',\n",
              " 'starts',\n",
              " 'instill',\n",
              " 'corp',\n",
              " 'hope',\n",
              " 'payne',\n",
              " 'recalled',\n",
              " 'fight',\n",
              " 'bosnia',\n",
              " 'leave',\n",
              " 'corp',\n",
              " 'started',\n",
              " 'believe',\n",
              " 'find',\n",
              " 'killin',\n",
              " 'much',\n",
              " 'livin']"
            ]
          },
          "metadata": {},
          "execution_count": 25
        }
      ]
    },
    {
      "cell_type": "markdown",
      "source": [
        "Lematización de la función"
      ],
      "metadata": {
        "id": "IZlcX79dsvZQ"
      }
    },
    {
      "cell_type": "code",
      "source": [
        "wordnet_lemmatizer = WordNetLemmatizer() #Lematizador\n",
        "pelicula_ejemplo = [wordnet_lemmatizer.lemmatize(word) for word in pelicula_ejemplo] #devuelve palabras lematizadas\n",
        "pelicula_ejemplo"
      ],
      "metadata": {
        "colab": {
          "base_uri": "https://localhost:8080/"
        },
        "id": "RvQeap_Isxlp",
        "outputId": "2f76aff6-b2f6-40cd-ceff-83f312e4b474"
      },
      "execution_count": 26,
      "outputs": [
        {
          "output_type": "execute_result",
          "data": {
            "text/plain": [
              "['major',\n",
              " 'benson',\n",
              " 'winifred',\n",
              " 'payne',\n",
              " 'discharged',\n",
              " 'marine',\n",
              " 'payne',\n",
              " 'killin',\n",
              " 'machine',\n",
              " 'war',\n",
              " 'world',\n",
              " 'longer',\n",
              " 'fought',\n",
              " 'battlefield',\n",
              " 'career',\n",
              " 'marine',\n",
              " 'idea',\n",
              " 'civilian',\n",
              " 'commander',\n",
              " 'find',\n",
              " 'job',\n",
              " 'commanding',\n",
              " 'officer',\n",
              " 'local',\n",
              " 'school',\n",
              " 'jrotc',\n",
              " 'program',\n",
              " 'bunch',\n",
              " 'ragtag',\n",
              " 'loser',\n",
              " 'hope',\n",
              " 'using',\n",
              " 'teaching',\n",
              " 'tool',\n",
              " 'live',\n",
              " 'grenade',\n",
              " 'real',\n",
              " 'bullet',\n",
              " 'payne',\n",
              " 'start',\n",
              " 'instill',\n",
              " 'corp',\n",
              " 'hope',\n",
              " 'payne',\n",
              " 'recalled',\n",
              " 'fight',\n",
              " 'bosnia',\n",
              " 'leave',\n",
              " 'corp',\n",
              " 'started',\n",
              " 'believe',\n",
              " 'find',\n",
              " 'killin',\n",
              " 'much',\n",
              " 'livin']"
            ]
          },
          "metadata": {},
          "execution_count": 26
        }
      ]
    },
    {
      "cell_type": "markdown",
      "source": [
        "Y ya que viene de un DataFrame se debe volver a unir todo para posteriormente hacer el cambio final"
      ],
      "metadata": {
        "id": "GqYin5zUs5ik"
      }
    },
    {
      "cell_type": "code",
      "source": [
        "' '.join(pelicula_ejemplo)"
      ],
      "metadata": {
        "colab": {
          "base_uri": "https://localhost:8080/",
          "height": 0
        },
        "id": "WxmsZdHUs_PQ",
        "outputId": "26a18f0a-ddea-428a-b6dd-9a3125b84e95"
      },
      "execution_count": 27,
      "outputs": [
        {
          "output_type": "execute_result",
          "data": {
            "text/plain": [
              "'major benson winifred payne discharged marine payne killin machine war world longer fought battlefield career marine idea civilian commander find job commanding officer local school jrotc program bunch ragtag loser hope using teaching tool live grenade real bullet payne start instill corp hope payne recalled fight bosnia leave corp started believe find killin much livin'"
            ],
            "application/vnd.google.colaboratory.intrinsic+json": {
              "type": "string"
            }
          },
          "metadata": {},
          "execution_count": 27
        }
      ]
    },
    {
      "cell_type": "markdown",
      "source": [
        "## ***Función de PreProcesamiento para el Proyecto***\n",
        "\n",
        "Conociendo lo anterior a continuación se presenta la función consolidada de código para poder ser empleado en el proyecto"
      ],
      "metadata": {
        "id": "fP_6_mB9qi1i"
      }
    },
    {
      "cell_type": "code",
      "source": [
        "#Lemas\n",
        "\n",
        "stop_words = set(stopwords.words('english')) #Stopwords\n",
        "wordnet_lemmatizer = WordNetLemmatizer() #Lematizador\n",
        "def preprocess(text):\n",
        "    text = text.lower() #eliminar mayusculas\n",
        "    text = ''.join([word for word in text if word not in string.punctuation]) #quitar puntuación\n",
        "    tokens = word_tokenize(text) #tokenizando\n",
        "    tokens = [word for word in tokens if word not in stop_words] #quitando stopwords\n",
        "    lemas = [wordnet_lemmatizer.lemmatize(word) for word in tokens] #devuelve palabras lematizadas\n",
        "    return ' '.join(lemas)\n",
        "\n",
        "data_modificada = dataTraining['plot'].apply(preprocess)"
      ],
      "metadata": {
        "id": "ShUqIPBakfOA"
      },
      "execution_count": 28,
      "outputs": []
    },
    {
      "cell_type": "code",
      "source": [
        "#Stemas\n",
        "\n",
        "# from nltk import SnowballStemmer\n",
        "# englishstemmer = SnowballStemmer('english')\n",
        "\n",
        "# stop_words = set(stopwords.words('english')) #Stopwords\n",
        "# wordnet_lemmatizer = WordNetLemmatizer() #Lematizador\n",
        "# def preprocess(text):\n",
        "#     text = text.lower() #eliminar mayusculas\n",
        "#     text = ''.join([word for word in text if word not in string.punctuation]) #quitar puntuación\n",
        "#     tokens = word_tokenize(text) #tokenizando\n",
        "#     tokens = [word for word in tokens if word not in stop_words] #quitando stopwords\n",
        "#     lemas = [englishstemmer.stem(w) for w in tokens] #devuelve palabras stemizadas\n",
        "#     return ' '.join(lemas)\n",
        "\n",
        "# data_modificada = dataTraining['plot'].apply(preprocess)"
      ],
      "metadata": {
        "id": "WsMSbT3r2SGs"
      },
      "execution_count": 29,
      "outputs": []
    },
    {
      "cell_type": "code",
      "source": [
        "data_modificada.head() #Final texto a usar"
      ],
      "metadata": {
        "colab": {
          "base_uri": "https://localhost:8080/"
        },
        "id": "7ZZqEo5-_pKf",
        "outputId": "11e7fcbe-410b-4a7a-c4c4-75bb53e92da1"
      },
      "execution_count": 30,
      "outputs": [
        {
          "output_type": "execute_result",
          "data": {
            "text/plain": [
              "3107    story single father take eight year old son wo...\n",
              "900     serial killer decides teach secret satisfying ...\n",
              "6724    sweden female blackmailer disfiguring facial s...\n",
              "4704    friday afternoon new york president tredway co...\n",
              "2582    los angeles editor publishing house carol hunn...\n",
              "Name: plot, dtype: object"
            ]
          },
          "metadata": {},
          "execution_count": 30
        }
      ]
    },
    {
      "cell_type": "markdown",
      "source": [
        "# **Análisis data Post-Limpieza**"
      ],
      "metadata": {
        "id": "p0Ia-Neg-cww"
      }
    },
    {
      "cell_type": "markdown",
      "source": [
        "Se revisa las palabras que más veces salieron posterior a la limpieza de data"
      ],
      "metadata": {
        "id": "opsfrrPp_Cf8"
      }
    },
    {
      "cell_type": "code",
      "source": [
        "p_data = data_modificada.tolist()\n",
        "\n",
        "# Combina todos los textos en un solo gran texto\n",
        "corpus = ' '.join(p_data)\n",
        "\n",
        "# Tokeniza\n",
        "tokens = corpus.split()\n",
        "\n",
        "# Calcula la frecuencia de las palabras sin preprocesar\n",
        "word_frequency = Counter(tokens)\n",
        "\n",
        "# Ordena las palabras por frecuencia en orden descendente\n",
        "sorted_word_frequency = dict(sorted(word_frequency.items(), key=lambda x: x[1], reverse=True))\n",
        "\n",
        "# Obtén las palabras y sus frecuencias ordenadas\n",
        "words = list(sorted_word_frequency.keys())\n",
        "frequencies = list(sorted_word_frequency.values())\n",
        "\n",
        "# gráfico de barras de frecuencias\n",
        "plt.figure(figsize=(10, 5))\n",
        "plt.bar(words[:50], frequencies[:50], color='purple')\n",
        "plt.xlabel('Palabra')\n",
        "plt.ylabel('Frecuencia')\n",
        "plt.title('Gráfico de Frecuencias de todas palabras')\n",
        "plt.xticks(rotation=90)\n",
        "plt.show()"
      ],
      "metadata": {
        "colab": {
          "base_uri": "https://localhost:8080/"
        },
        "id": "sxe9Z55X-h6m",
        "outputId": "2ea2aaa8-2f56-489e-f0ab-35ba93c40e31"
      },
      "execution_count": null,
      "outputs": [
        {
          "output_type": "display_data",
          "data": {
            "text/plain": [
              "<Figure size 1000x500 with 1 Axes>"
            ],
            "image/png": "[encoded data removed]"
          },
          "metadata": {}
        }
      ]
    },
    {
      "cell_type": "code",
      "source": [
        "model_es = spacy.load(\"en_core_web_sm\")"
      ],
      "metadata": {
        "id": "7tPQB_QLpgWO"
      },
      "execution_count": null,
      "outputs": []
    },
    {
      "cell_type": "code",
      "source": [
        "peliculas = \" \".join(data_modificada.tolist())\n",
        "peliculas = peliculas[:999999]\n",
        "doc = model_es(peliculas)\n",
        "discursos_not_stop = [str(token) for token in doc]"
      ],
      "metadata": {
        "id": "Ao0ISo-kpj4f"
      },
      "execution_count": null,
      "outputs": []
    },
    {
      "cell_type": "code",
      "source": [
        "wc = wordcloud.WordCloud(width=1500, height=1500, colormap=\"Spectral\")\n",
        "wc.generate(\" \".join(discursos_not_stop))\n",
        "plt.axis(\"off\")\n",
        "plt.imshow(wc, interpolation=\"bilinear\")"
      ],
      "metadata": {
        "colab": {
          "base_uri": "https://localhost:8080/"
        },
        "id": "Cmd7RYmbptAq",
        "outputId": "7c29a54d-0a4e-4c95-8240-6aedb606a045"
      },
      "execution_count": null,
      "outputs": [
        {
          "output_type": "execute_result",
          "data": {
            "text/plain": [
              "<matplotlib.image.AxesImage at 0x7ff040affca0>"
            ]
          },
          "metadata": {},
          "execution_count": 31
        },
        {
          "output_type": "display_data",
          "data": {
            "text/plain": [
              "<Figure size 640x480 with 1 Axes>"
            ],
            "image/png": "[encoded data removed]"
          },
          "metadata": {}
        }
      ]
    },
    {
      "cell_type": "markdown",
      "source": [
        "# **Generar codificación y partición de la data en train y test**"
      ],
      "metadata": {
        "id": "nE1vpQR8_trf"
      }
    },
    {
      "cell_type": "markdown",
      "source": [
        "A continaución se muestra la forma de vectorizar el modelo"
      ],
      "metadata": {
        "id": "8Jgu8BJ_AHxp"
      }
    },
    {
      "cell_type": "code",
      "source": [
        "#Bag Of Words\n",
        "vect = CountVectorizer(ngram_range=(1,3), max_features=5000, min_df=3) #hiperparametro los ngramas\n",
        "X_dtm = vect.fit_transform(data_modificada)\n",
        "\n",
        "#TFIDF\n",
        "tfidf = TfidfVectorizer(ngram_range=(1,3), max_features=5000, min_df=3) #hiperparametro los ngramas\n",
        "X_dtm = tfidf.fit_transform(data_modificada).toarray()\n",
        "\n",
        "#Word2Vec\n",
        "model = Word2Vec(data_modificada, vector_size=32, window=20, negative=50, min_count=3, workers=4)\n",
        "\n",
        "X_dtm.shape"
      ],
      "metadata": {
        "id": "7MyVFqKWAHGw"
      },
      "execution_count": null,
      "outputs": []
    },
    {
      "cell_type": "code",
      "source": [
        "X_train, X_test, y_train_genres, y_test_genres = train_test_split(X_dtm, y_genres, test_size=0.33, random_state=42)"
      ],
      "metadata": {
        "id": "Gj4a0bHvC32W"
      },
      "execution_count": null,
      "outputs": []
    },
    {
      "cell_type": "markdown",
      "source": [
        "### *Word2Vec*"
      ],
      "metadata": {
        "id": "Gq3d8mS7s03R"
      }
    },
    {
      "cell_type": "code",
      "source": [
        "dataw2v=data_modificada.apply(lambda x: gensim.utils.simple_preprocess(x))\n",
        "dataw2v.head()"
      ],
      "metadata": {
        "colab": {
          "base_uri": "https://localhost:8080/"
        },
        "id": "_yhME-zN0r29",
        "outputId": "e8317a4c-a06e-415a-db6c-e556034a1f77"
      },
      "execution_count": 41,
      "outputs": [
        {
          "output_type": "execute_result",
          "data": {
            "text/plain": [
              "3107    [story, single, father, take, eight, year, old...\n",
              "900     [serial, killer, decides, teach, secret, satis...\n",
              "6724    [sweden, female, blackmailer, disfiguring, fac...\n",
              "4704    [friday, afternoon, new, york, president, tred...\n",
              "2582    [los, angeles, editor, publishing, house, caro...\n",
              "Name: plot, dtype: object"
            ]
          },
          "metadata": {},
          "execution_count": 41
        }
      ]
    },
    {
      "cell_type": "code",
      "source": [
        "# Dividir data ORIGINAL en train y test\n",
        "X_train, X_test, y_train, y_test = train_test_split(dataw2v, y_genres, test_size=0.33, random_state=42)"
      ],
      "metadata": {
        "id": "s5TqJe3xs3C3"
      },
      "execution_count": 42,
      "outputs": []
    },
    {
      "cell_type": "markdown",
      "source": [
        "Entrenar Word2Vec"
      ],
      "metadata": {
        "id": "41d0gLI2Dyl-"
      }
    },
    {
      "cell_type": "code",
      "source": [
        "# Train the word2vec model\n",
        "w2v_model = gensim.models.Word2Vec(X_train,\n",
        "                                   vector_size=100,\n",
        "                                   window=5,\n",
        "                                   min_count=2)"
      ],
      "metadata": {
        "id": "HoYS6Fzvtgyl"
      },
      "execution_count": 43,
      "outputs": []
    },
    {
      "cell_type": "code",
      "source": [
        "# Generate aggregated sentence vectors based on the word vectors for each word in the sentence\n",
        "# Replace the words in each text message with the learned word vector\n",
        "words = set(w2v_model.wv.index_to_key )\n",
        "X_train_vect = np.array([np.array([w2v_model.wv[i] for i in ls if i in words])\n",
        "                         for ls in X_train])\n",
        "X_test_vect = np.array([np.array([w2v_model.wv[i] for i in ls if i in words])\n",
        "                         for ls in X_test])"
      ],
      "metadata": {
        "colab": {
          "base_uri": "https://localhost:8080/"
        },
        "id": "qBlCkTjvtlhO",
        "outputId": "f6576530-cdf1-4ca5-8ea3-9d10896f16c4"
      },
      "execution_count": 44,
      "outputs": [
        {
          "output_type": "stream",
          "name": "stderr",
          "text": [
            "<ipython-input-44-728eb4564d7f>:4: VisibleDeprecationWarning: Creating an ndarray from ragged nested sequences (which is a list-or-tuple of lists-or-tuples-or ndarrays with different lengths or shapes) is deprecated. If you meant to do this, you must specify 'dtype=object' when creating the ndarray.\n",
            "  X_train_vect = np.array([np.array([w2v_model.wv[i] for i in ls if i in words])\n",
            "<ipython-input-44-728eb4564d7f>:6: VisibleDeprecationWarning: Creating an ndarray from ragged nested sequences (which is a list-or-tuple of lists-or-tuples-or ndarrays with different lengths or shapes) is deprecated. If you meant to do this, you must specify 'dtype=object' when creating the ndarray.\n",
            "  X_test_vect = np.array([np.array([w2v_model.wv[i] for i in ls if i in words])\n"
          ]
        }
      ]
    },
    {
      "cell_type": "code",
      "source": [
        "# Average the word vectors for each sentence (and assign a vector of zeros if the model\n",
        "# did not learn any of the words in the text message during training\n",
        "X_train_vect_avg = []\n",
        "for v in X_train_vect:\n",
        "    if v.size:\n",
        "        X_train_vect_avg.append(v.mean(axis=0))\n",
        "    else:\n",
        "        X_train_vect_avg.append(np.zeros(100, dtype=float))\n",
        "\n",
        "X_test_vect_avg = []\n",
        "for v in X_test_vect:\n",
        "    if v.size:\n",
        "        X_test_vect_avg.append(v.mean(axis=0))\n",
        "    else:\n",
        "        X_test_vect_avg.append(np.zeros(100, dtype=float))"
      ],
      "metadata": {
        "id": "uUEWb8HbuEbv"
      },
      "execution_count": 45,
      "outputs": []
    },
    {
      "cell_type": "markdown",
      "source": [
        "# **Modelamiento**\n",
        "\n",
        "- XGBoost - Carlos\n",
        "- Random Forest - Adrian\n",
        "- Redes LSTM - Dani\n",
        "- Redes GRU - Yudy"
      ],
      "metadata": {
        "id": "Y54h31kCEsUa"
      }
    },
    {
      "cell_type": "markdown",
      "source": [
        "## ***XGBoost***"
      ],
      "metadata": {
        "id": "8cqoapoZEuce"
      }
    },
    {
      "cell_type": "code",
      "source": [
        "#Bag Of Words\n",
        "vect = CountVectorizer(ngram_range=(1,3), max_features=5000) #hiperparametro los ngramas\n",
        "X_dtm = vect.fit_transform(data_modificada).toarray()\n",
        "X_dtm"
      ],
      "metadata": {
        "colab": {
          "base_uri": "https://localhost:8080/"
        },
        "id": "uu2Pe1ZuV9r4",
        "outputId": "8579375f-24d7-497c-89b4-5abe086f5066"
      },
      "execution_count": null,
      "outputs": [
        {
          "output_type": "execute_result",
          "data": {
            "text/plain": [
              "array([[0, 0, 0, ..., 0, 0, 0],\n",
              "       [0, 0, 0, ..., 0, 0, 0],\n",
              "       [0, 0, 0, ..., 0, 0, 0],\n",
              "       ...,\n",
              "       [0, 0, 0, ..., 0, 0, 0],\n",
              "       [0, 0, 0, ..., 0, 0, 0],\n",
              "       [0, 0, 0, ..., 0, 0, 0]])"
            ]
          },
          "metadata": {},
          "execution_count": 70
        }
      ]
    },
    {
      "cell_type": "code",
      "source": [
        "X_train, X_test, y_train_genres, y_test_genres = train_test_split(X_dtm, y_genres, test_size=0.33, random_state=42)"
      ],
      "metadata": {
        "id": "vufvijKIWX6d"
      },
      "execution_count": null,
      "outputs": []
    },
    {
      "cell_type": "markdown",
      "source": [
        "Búsqueda de hiperparámetros"
      ],
      "metadata": {
        "id": "NrKGK31zNfyS"
      }
    },
    {
      "cell_type": "code",
      "source": [
        "xgb_param_grid = ParameterGrid(\n",
        "    {\n",
        "    'learning_rate': [0.01, 0.1, 0.2],\n",
        "    'max_depth': [3, 5, None],\n",
        "    'n_estimators': [50, 100, 200],\n",
        "    'subsample': [ 0.7, 1.0],\n",
        "    'colsample_bytree': [0.5, 0.7, 1.0]\n",
        "    }\n",
        ")"
      ],
      "metadata": {
        "id": "lHJj8AlsD0PI"
      },
      "execution_count": null,
      "outputs": []
    },
    {
      "cell_type": "markdown",
      "source": [
        "Modelo"
      ],
      "metadata": {
        "id": "B-DNtwvYO-Yg"
      }
    },
    {
      "cell_type": "code",
      "source": [
        "def XGBoost_(params, X_train, y_train, X_test, y_test):\n",
        "  xgb = OneVsRestClassifier(XGBClassifier(\n",
        "      n_jobs=-1,\n",
        "      random_state = 42\n",
        "      ** params\n",
        "      ))\n",
        "  xgb.fit(X_train, y_train)\n",
        "\n",
        "  y_pred_xgb = xgb.predict_proba(X_test)\n",
        "  return y_pred_xgb, roc_auc_score(y_test, y_pred_xgb, average='macro')"
      ],
      "metadata": {
        "id": "C1FuktrxO_Eu"
      },
      "execution_count": null,
      "outputs": []
    },
    {
      "cell_type": "code",
      "source": [
        "#1 a 3 n-gramas y 5000 - Count Vectorize\n",
        "_, auc = XGBoost_(None, X_train, y_train_genres, X_test, y_test_genres)\n",
        "print(f\"El modelo generó un AUC de: {auc}\")"
      ],
      "metadata": {
        "colab": {
          "base_uri": "https://localhost:8080/"
        },
        "id": "SJQscEfZtFdY",
        "outputId": "3aee28e3-836b-4c2c-dc1b-c7702be0c74b"
      },
      "execution_count": null,
      "outputs": [
        {
          "output_type": "stream",
          "name": "stdout",
          "text": [
            "El modelo generó un AUC de: 0.8328083074649252\n"
          ]
        }
      ]
    },
    {
      "cell_type": "code",
      "source": [
        "#_, auc = XGBoost_(None, X_train_vect_avg, y_train_genres, X_test_vect_avg, y_test_genres)\n",
        "#2000 y no enegramas - count vectorize\n",
        "_, auc = XGBoost_(None, X_train, y_train_genres, X_test, y_test_genres)\n",
        "print(f\"El modelo generó un AUC de: {auc}\")"
      ],
      "metadata": {
        "id": "Z_TZyferVmp0",
        "colab": {
          "base_uri": "https://localhost:8080/"
        },
        "outputId": "e6cdf2b7-444b-4e27-9edd-4cf2197a95f3"
      },
      "execution_count": null,
      "outputs": [
        {
          "output_type": "stream",
          "name": "stdout",
          "text": [
            "El modelo generó un AUC de: 0.8237694088437415\n"
          ]
        }
      ]
    },
    {
      "cell_type": "markdown",
      "source": [
        "## ***Regresión logística***"
      ],
      "metadata": {
        "id": "OKdm5dV2E2da"
      }
    },
    {
      "cell_type": "code",
      "source": [
        "#TFIDF\n",
        "tfidf = TfidfVectorizer(ngram_range=(1,3), min_df=2) #hiperparametro los ngramas\n",
        "X_dtm = tfidf.fit_transform(data_modificada).toarray()\n",
        "X_train_dtm, X_test_dtm, y_train_genres, y_test_genres = train_test_split(X_dtm, y_genres, test_size=0.33, random_state=42)"
      ],
      "metadata": {
        "id": "mLLIFp2tE5H7"
      },
      "execution_count": 31,
      "outputs": []
    },
    {
      "cell_type": "markdown",
      "source": [
        "### *Modelo con Word2Vec*"
      ],
      "metadata": {
        "id": "Lavr_xDZrjCH"
      }
    },
    {
      "cell_type": "code",
      "source": [
        "from sklearn.linear_model import LogisticRegression\n",
        "\n",
        "# Hiperparámetros de la regresión logística\n",
        "params = {\n",
        "    'penalty': 'l2',\n",
        "    'C': 10,\n",
        "    'solver': 'lbfgs',\n",
        "    'max_iter': 1000,\n",
        "}\n",
        "\n",
        "# Entrenar el modelo\n",
        "clf = OneVsRestClassifier(LogisticRegression(**params))\n",
        "\n",
        "clf.fit(X_train_vect_avg, y_train)\n",
        "\n",
        "# realizar las predicciones\n",
        "y_pred_genres = clf.predict_proba(X_test_vect_avg)\n",
        "\n",
        "# Calcular la métrica ROC AUC\n",
        "roc_auc = roc_auc_score(y_test, y_pred_genres, average='macro')\n",
        "print('ROC AUC Score:', roc_auc)"
      ],
      "metadata": {
        "colab": {
          "base_uri": "https://localhost:8080/"
        },
        "id": "BQKCI9uHrTS0",
        "outputId": "ddbc9f79-4969-48e3-8ab9-5d125bbf7ebf"
      },
      "execution_count": 46,
      "outputs": [
        {
          "output_type": "stream",
          "name": "stdout",
          "text": [
            "ROC AUC Score: 0.709820520621101\n"
          ]
        }
      ]
    },
    {
      "cell_type": "markdown",
      "source": [
        "### Modelo con TF-IDF"
      ],
      "metadata": {
        "id": "aWY0Czg8rnMA"
      }
    },
    {
      "cell_type": "code",
      "source": [
        "from sklearn.linear_model import LogisticRegression\n",
        "\n",
        "# Hiperparámetros de la regresión logística\n",
        "params = {\n",
        "    'penalty': 'l2',\n",
        "    'C': 1,\n",
        "    'solver': 'saga',\n",
        "    'max_iter': 1000,\n",
        "}\n",
        "\n",
        "# Entrenar el modelo\n",
        "clf = OneVsRestClassifier(LogisticRegression(**params))\n",
        "\n",
        "clf.fit(X_train_dtm, y_train_genres)\n",
        "\n",
        "# Realizar las predicciones\n",
        "y_pred_genres = clf.predict_proba(X_test_dtm)\n",
        "\n",
        "# Calcular la métrica ROC AUC\n",
        "roc_auc = roc_auc_score(y_test_genres, y_pred_genres, average='macro')\n",
        "print('ROC AUC Score:', roc_auc)"
      ],
      "metadata": {
        "colab": {
          "base_uri": "https://localhost:8080/"
        },
        "id": "q8Q3EHoDyh7I",
        "outputId": "163eb75a-f04e-4007-f0ff-09e1fefdc09e"
      },
      "execution_count": 34,
      "outputs": [
        {
          "output_type": "stream",
          "name": "stdout",
          "text": [
            "ROC AUC Score: 0.8821402478077308\n"
          ]
        }
      ]
    },
    {
      "cell_type": "code",
      "source": [
        "from sklearn.linear_model import LogisticRegression\n",
        "\n",
        "# Hiperparámetros de la regresión logística\n",
        "params = {\n",
        "    'penalty': 'l1',\n",
        "    'C': 0.01,\n",
        "    'solver': 'saga',\n",
        "    'max_iter': 1000,\n",
        "}\n",
        "\n",
        "# Entrenar el modelo\n",
        "clf = OneVsRestClassifier(LogisticRegression(**params))\n",
        "\n",
        "clf.fit(X_train_dtm, y_train_genres)\n",
        "\n",
        "# Realizar las predicciones\n",
        "y_pred_genres = clf.predict_proba(X_test_dtm)\n",
        "\n",
        "# Calcular la métrica ROC AUC\n",
        "roc_auc = roc_auc_score(y_test_genres, y_pred_genres, average='macro')\n",
        "print('ROC AUC Score:', roc_auc)"
      ],
      "metadata": {
        "id": "PkR4Zbl-zA3I"
      },
      "execution_count": null,
      "outputs": []
    },
    {
      "cell_type": "markdown",
      "source": [
        "## ***LSTM***"
      ],
      "metadata": {
        "id": "g-gkfDcBE5oh"
      }
    },
    {
      "cell_type": "code",
      "source": [
        "!pip install imbalanced-learn --quiet"
      ],
      "metadata": {
        "id": "PyKzLJ9Cyh2E"
      },
      "execution_count": 51,
      "outputs": []
    },
    {
      "cell_type": "code",
      "source": [
        "from keras.preprocessing.text import Tokenizer\n",
        "#from keras.preprocessing.sequence import pad_sequences\n",
        "from keras.layers import Dense, Input, GlobalMaxPool1D, Embedding, Dropout, Activation, SpatialDropout1D, Bidirectional, LSTM\n",
        "#from keras.layers.merge import concatenate\n",
        "from keras.models import Model\n",
        "from keras.layers import BatchNormalization\n",
        "from keras.callbacks import EarlyStopping, ModelCheckpoint,ReduceLROnPlateau\n",
        "from keras.optimizers import RMSprop, Nadam, Adam\n",
        "from keras.utils import pad_sequences\n",
        "%matplotlib inline\n",
        "%matplotlib inline\n",
        "from keras.callbacks import ReduceLROnPlateau , EarlyStopping\n",
        "from keras.models import Sequential\n",
        "\n",
        "from imblearn.over_sampling import SMOTE"
      ],
      "metadata": {
        "id": "UKLMfi8-z9Pk"
      },
      "execution_count": 91,
      "outputs": []
    },
    {
      "cell_type": "markdown",
      "source": [
        "### Embedding"
      ],
      "metadata": {
        "id": "5GiSfSGGUZZu"
      }
    },
    {
      "cell_type": "code",
      "source": [
        "X = data_modificada.tolist()\n",
        "# For vocabulary only the intersec characters is used to avoid issues with data collection\n",
        "voc = set(''.join(X))\n",
        "vocabulary = {x: idx + 1 for idx, x in enumerate(set(voc))}\n",
        "# Max len\n",
        "max_url_len = 300\n",
        "X = [x[:max_url_len] for x in X]\n",
        "# Convert characters to int and pad\n",
        "X = [[vocabulary[x1] for x1 in x if x1 in vocabulary.keys()] for x in X]\n",
        "X_pad = pad_sequences(X, maxlen=max_url_len)"
      ],
      "metadata": {
        "id": "4WlBaAMg0FPL"
      },
      "execution_count": 62,
      "outputs": []
    },
    {
      "cell_type": "markdown",
      "source": [
        "### *Vesion 1*"
      ],
      "metadata": {
        "id": "Bfof2fG-UcF2"
      }
    },
    {
      "cell_type": "code",
      "source": [
        "columnas = []\n",
        "for i in range(24):\n",
        "  columnas.append(\"col\" + str(i))\n",
        "y_rn=pd.DataFrame(y_genres, columns=columnas)\n",
        "y_rn.head()"
      ],
      "metadata": {
        "colab": {
          "base_uri": "https://localhost:8080/",
          "height": 255
        },
        "id": "WDUvHFzr0Jq_",
        "outputId": "ffd18c87-3e50-4baf-9089-25761e17ccd2"
      },
      "execution_count": 63,
      "outputs": [
        {
          "output_type": "execute_result",
          "data": {
            "text/plain": [
              "   col0  col1  col2  col3  col4  col5  col6  col7  col8  col9  ...  col14  \\\n",
              "0     0     0     0     0     0     0     0     1     0     0  ...      0   \n",
              "1     0     0     0     0     1     1     0     0     0     0  ...      0   \n",
              "2     0     0     0     0     0     0     0     1     0     0  ...      0   \n",
              "3     0     0     0     0     0     0     0     1     0     0  ...      0   \n",
              "4     1     0     0     0     0     1     0     0     0     0  ...      0   \n",
              "\n",
              "   col15  col16  col17  col18  col19  col20  col21  col22  col23  \n",
              "0      0      0      0      0      1      0      0      0      0  \n",
              "1      0      0      0      0      0      0      0      0      0  \n",
              "2      0      0      0      0      0      0      1      0      0  \n",
              "3      0      0      0      0      0      0      0      0      0  \n",
              "4      0      0      0      0      0      0      1      0      0  \n",
              "\n",
              "[5 rows x 24 columns]"
            ],
            "text/html": [
              "\n",
              "  <div id=\"df-edb4953b-5b64-4f96-8e3c-5c65be25247a\" class=\"colab-df-container\">\n",
              "    <div>\n",
              "<style scoped>\n",
              "    .dataframe tbody tr th:only-of-type {\n",
              "        vertical-align: middle;\n",
              "    }\n",
              "\n",
              "    .dataframe tbody tr th {\n",
              "        vertical-align: top;\n",
              "    }\n",
              "\n",
              "    .dataframe thead th {\n",
              "        text-align: right;\n",
              "    }\n",
              "</style>\n",
              "<table border=\"1\" class=\"dataframe\">\n",
              "  <thead>\n",
              "    <tr style=\"text-align: right;\">\n",
              "      <th></th>\n",
              "      <th>col0</th>\n",
              "      <th>col1</th>\n",
              "      <th>col2</th>\n",
              "      <th>col3</th>\n",
              "      <th>col4</th>\n",
              "      <th>col5</th>\n",
              "      <th>col6</th>\n",
              "      <th>col7</th>\n",
              "      <th>col8</th>\n",
              "      <th>col9</th>\n",
              "      <th>...</th>\n",
              "      <th>col14</th>\n",
              "      <th>col15</th>\n",
              "      <th>col16</th>\n",
              "      <th>col17</th>\n",
              "      <th>col18</th>\n",
              "      <th>col19</th>\n",
              "      <th>col20</th>\n",
              "      <th>col21</th>\n",
              "      <th>col22</th>\n",
              "      <th>col23</th>\n",
              "    </tr>\n",
              "  </thead>\n",
              "  <tbody>\n",
              "    <tr>\n",
              "      <th>0</th>\n",
              "      <td>0</td>\n",
              "      <td>0</td>\n",
              "      <td>0</td>\n",
              "      <td>0</td>\n",
              "      <td>0</td>\n",
              "      <td>0</td>\n",
              "      <td>0</td>\n",
              "      <td>1</td>\n",
              "      <td>0</td>\n",
              "      <td>0</td>\n",
              "      <td>...</td>\n",
              "      <td>0</td>\n",
              "      <td>0</td>\n",
              "      <td>0</td>\n",
              "      <td>0</td>\n",
              "      <td>0</td>\n",
              "      <td>1</td>\n",
              "      <td>0</td>\n",
              "      <td>0</td>\n",
              "      <td>0</td>\n",
              "      <td>0</td>\n",
              "    </tr>\n",
              "    <tr>\n",
              "      <th>1</th>\n",
              "      <td>0</td>\n",
              "      <td>0</td>\n",
              "      <td>0</td>\n",
              "      <td>0</td>\n",
              "      <td>1</td>\n",
              "      <td>1</td>\n",
              "      <td>0</td>\n",
              "      <td>0</td>\n",
              "      <td>0</td>\n",
              "      <td>0</td>\n",
              "      <td>...</td>\n",
              "      <td>0</td>\n",
              "      <td>0</td>\n",
              "      <td>0</td>\n",
              "      <td>0</td>\n",
              "      <td>0</td>\n",
              "      <td>0</td>\n",
              "      <td>0</td>\n",
              "      <td>0</td>\n",
              "      <td>0</td>\n",
              "      <td>0</td>\n",
              "    </tr>\n",
              "    <tr>\n",
              "      <th>2</th>\n",
              "      <td>0</td>\n",
              "      <td>0</td>\n",
              "      <td>0</td>\n",
              "      <td>0</td>\n",
              "      <td>0</td>\n",
              "      <td>0</td>\n",
              "      <td>0</td>\n",
              "      <td>1</td>\n",
              "      <td>0</td>\n",
              "      <td>0</td>\n",
              "      <td>...</td>\n",
              "      <td>0</td>\n",
              "      <td>0</td>\n",
              "      <td>0</td>\n",
              "      <td>0</td>\n",
              "      <td>0</td>\n",
              "      <td>0</td>\n",
              "      <td>0</td>\n",
              "      <td>1</td>\n",
              "      <td>0</td>\n",
              "      <td>0</td>\n",
              "    </tr>\n",
              "    <tr>\n",
              "      <th>3</th>\n",
              "      <td>0</td>\n",
              "      <td>0</td>\n",
              "      <td>0</td>\n",
              "      <td>0</td>\n",
              "      <td>0</td>\n",
              "      <td>0</td>\n",
              "      <td>0</td>\n",
              "      <td>1</td>\n",
              "      <td>0</td>\n",
              "      <td>0</td>\n",
              "      <td>...</td>\n",
              "      <td>0</td>\n",
              "      <td>0</td>\n",
              "      <td>0</td>\n",
              "      <td>0</td>\n",
              "      <td>0</td>\n",
              "      <td>0</td>\n",
              "      <td>0</td>\n",
              "      <td>0</td>\n",
              "      <td>0</td>\n",
              "      <td>0</td>\n",
              "    </tr>\n",
              "    <tr>\n",
              "      <th>4</th>\n",
              "      <td>1</td>\n",
              "      <td>0</td>\n",
              "      <td>0</td>\n",
              "      <td>0</td>\n",
              "      <td>0</td>\n",
              "      <td>1</td>\n",
              "      <td>0</td>\n",
              "      <td>0</td>\n",
              "      <td>0</td>\n",
              "      <td>0</td>\n",
              "      <td>...</td>\n",
              "      <td>0</td>\n",
              "      <td>0</td>\n",
              "      <td>0</td>\n",
              "      <td>0</td>\n",
              "      <td>0</td>\n",
              "      <td>0</td>\n",
              "      <td>0</td>\n",
              "      <td>1</td>\n",
              "      <td>0</td>\n",
              "      <td>0</td>\n",
              "    </tr>\n",
              "  </tbody>\n",
              "</table>\n",
              "<p>5 rows × 24 columns</p>\n",
              "</div>\n",
              "    <div class=\"colab-df-buttons\">\n",
              "\n",
              "  <div class=\"colab-df-container\">\n",
              "    <button class=\"colab-df-convert\" onclick=\"convertToInteractive('df-edb4953b-5b64-4f96-8e3c-5c65be25247a')\"\n",
              "            title=\"Convert this dataframe to an interactive table.\"\n",
              "            style=\"display:none;\">\n",
              "\n",
              "  <svg xmlns=\"http://www.w3.org/2000/svg\" height=\"24px\" viewBox=\"0 -960 960 960\">\n",
              "    <path d=\"M120-120v-720h720v720H120Zm60-500h600v-160H180v160Zm220 220h160v-160H400v160Zm0 220h160v-160H400v160ZM180-400h160v-160H180v160Zm440 0h160v-160H620v160ZM180-180h160v-160H180v160Zm440 0h160v-160H620v160Z\"/>\n",
              "  </svg>\n",
              "    </button>\n",
              "\n",
              "  <style>\n",
              "    .colab-df-container {\n",
              "      display:flex;\n",
              "      gap: 12px;\n",
              "    }\n",
              "\n",
              "    .colab-df-convert {\n",
              "      background-color: #E8F0FE;\n",
              "      border: none;\n",
              "      border-radius: 50%;\n",
              "      cursor: pointer;\n",
              "      display: none;\n",
              "      fill: #1967D2;\n",
              "      height: 32px;\n",
              "      padding: 0 0 0 0;\n",
              "      width: 32px;\n",
              "    }\n",
              "\n",
              "    .colab-df-convert:hover {\n",
              "      background-color: #E2EBFA;\n",
              "      box-shadow: 0px 1px 2px rgba(60, 64, 67, 0.3), 0px 1px 3px 1px rgba(60, 64, 67, 0.15);\n",
              "      fill: #174EA6;\n",
              "    }\n",
              "\n",
              "    .colab-df-buttons div {\n",
              "      margin-bottom: 4px;\n",
              "    }\n",
              "\n",
              "    [theme=dark] .colab-df-convert {\n",
              "      background-color: #3B4455;\n",
              "      fill: #D2E3FC;\n",
              "    }\n",
              "\n",
              "    [theme=dark] .colab-df-convert:hover {\n",
              "      background-color: #434B5C;\n",
              "      box-shadow: 0px 1px 3px 1px rgba(0, 0, 0, 0.15);\n",
              "      filter: drop-shadow(0px 1px 2px rgba(0, 0, 0, 0.3));\n",
              "      fill: #FFFFFF;\n",
              "    }\n",
              "  </style>\n",
              "\n",
              "    <script>\n",
              "      const buttonEl =\n",
              "        document.querySelector('#df-edb4953b-5b64-4f96-8e3c-5c65be25247a button.colab-df-convert');\n",
              "      buttonEl.style.display =\n",
              "        google.colab.kernel.accessAllowed ? 'block' : 'none';\n",
              "\n",
              "      async function convertToInteractive(key) {\n",
              "        const element = document.querySelector('#df-edb4953b-5b64-4f96-8e3c-5c65be25247a');\n",
              "        const dataTable =\n",
              "          await google.colab.kernel.invokeFunction('convertToInteractive',\n",
              "                                                    [key], {});\n",
              "        if (!dataTable) return;\n",
              "\n",
              "        const docLinkHtml = 'Like what you see? Visit the ' +\n",
              "          '<a target=\"_blank\" href=https://colab.research.google.com/notebooks/data_table.ipynb>data table notebook</a>'\n",
              "          + ' to learn more about interactive tables.';\n",
              "        element.innerHTML = '';\n",
              "        dataTable['output_type'] = 'display_data';\n",
              "        await google.colab.output.renderOutput(dataTable, element);\n",
              "        const docLink = document.createElement('div');\n",
              "        docLink.innerHTML = docLinkHtml;\n",
              "        element.appendChild(docLink);\n",
              "      }\n",
              "    </script>\n",
              "  </div>\n",
              "\n",
              "\n",
              "<div id=\"df-ba844f08-72ae-4e4c-97d6-e9e217777a28\">\n",
              "  <button class=\"colab-df-quickchart\" onclick=\"quickchart('df-ba844f08-72ae-4e4c-97d6-e9e217777a28')\"\n",
              "            title=\"Suggest charts.\"\n",
              "            style=\"display:none;\">\n",
              "\n",
              "<svg xmlns=\"http://www.w3.org/2000/svg\" height=\"24px\"viewBox=\"0 0 24 24\"\n",
              "     width=\"24px\">\n",
              "    <g>\n",
              "        <path d=\"M19 3H5c-1.1 0-2 .9-2 2v14c0 1.1.9 2 2 2h14c1.1 0 2-.9 2-2V5c0-1.1-.9-2-2-2zM9 17H7v-7h2v7zm4 0h-2V7h2v10zm4 0h-2v-4h2v4z\"/>\n",
              "    </g>\n",
              "</svg>\n",
              "  </button>\n",
              "\n",
              "<style>\n",
              "  .colab-df-quickchart {\n",
              "      --bg-color: #E8F0FE;\n",
              "      --fill-color: #1967D2;\n",
              "      --hover-bg-color: #E2EBFA;\n",
              "      --hover-fill-color: #174EA6;\n",
              "      --disabled-fill-color: #AAA;\n",
              "      --disabled-bg-color: #DDD;\n",
              "  }\n",
              "\n",
              "  [theme=dark] .colab-df-quickchart {\n",
              "      --bg-color: #3B4455;\n",
              "      --fill-color: #D2E3FC;\n",
              "      --hover-bg-color: #434B5C;\n",
              "      --hover-fill-color: #FFFFFF;\n",
              "      --disabled-bg-color: #3B4455;\n",
              "      --disabled-fill-color: #666;\n",
              "  }\n",
              "\n",
              "  .colab-df-quickchart {\n",
              "    background-color: var(--bg-color);\n",
              "    border: none;\n",
              "    border-radius: 50%;\n",
              "    cursor: pointer;\n",
              "    display: none;\n",
              "    fill: var(--fill-color);\n",
              "    height: 32px;\n",
              "    padding: 0;\n",
              "    width: 32px;\n",
              "  }\n",
              "\n",
              "  .colab-df-quickchart:hover {\n",
              "    background-color: var(--hover-bg-color);\n",
              "    box-shadow: 0 1px 2px rgba(60, 64, 67, 0.3), 0 1px 3px 1px rgba(60, 64, 67, 0.15);\n",
              "    fill: var(--button-hover-fill-color);\n",
              "  }\n",
              "\n",
              "  .colab-df-quickchart-complete:disabled,\n",
              "  .colab-df-quickchart-complete:disabled:hover {\n",
              "    background-color: var(--disabled-bg-color);\n",
              "    fill: var(--disabled-fill-color);\n",
              "    box-shadow: none;\n",
              "  }\n",
              "\n",
              "  .colab-df-spinner {\n",
              "    border: 2px solid var(--fill-color);\n",
              "    border-color: transparent;\n",
              "    border-bottom-color: var(--fill-color);\n",
              "    animation:\n",
              "      spin 1s steps(1) infinite;\n",
              "  }\n",
              "\n",
              "  @keyframes spin {\n",
              "    0% {\n",
              "      border-color: transparent;\n",
              "      border-bottom-color: var(--fill-color);\n",
              "      border-left-color: var(--fill-color);\n",
              "    }\n",
              "    20% {\n",
              "      border-color: transparent;\n",
              "      border-left-color: var(--fill-color);\n",
              "      border-top-color: var(--fill-color);\n",
              "    }\n",
              "    30% {\n",
              "      border-color: transparent;\n",
              "      border-left-color: var(--fill-color);\n",
              "      border-top-color: var(--fill-color);\n",
              "      border-right-color: var(--fill-color);\n",
              "    }\n",
              "    40% {\n",
              "      border-color: transparent;\n",
              "      border-right-color: var(--fill-color);\n",
              "      border-top-color: var(--fill-color);\n",
              "    }\n",
              "    60% {\n",
              "      border-color: transparent;\n",
              "      border-right-color: var(--fill-color);\n",
              "    }\n",
              "    80% {\n",
              "      border-color: transparent;\n",
              "      border-right-color: var(--fill-color);\n",
              "      border-bottom-color: var(--fill-color);\n",
              "    }\n",
              "    90% {\n",
              "      border-color: transparent;\n",
              "      border-bottom-color: var(--fill-color);\n",
              "    }\n",
              "  }\n",
              "</style>\n",
              "\n",
              "  <script>\n",
              "    async function quickchart(key) {\n",
              "      const quickchartButtonEl =\n",
              "        document.querySelector('#' + key + ' button');\n",
              "      quickchartButtonEl.disabled = true;  // To prevent multiple clicks.\n",
              "      quickchartButtonEl.classList.add('colab-df-spinner');\n",
              "      try {\n",
              "        const charts = await google.colab.kernel.invokeFunction(\n",
              "            'suggestCharts', [key], {});\n",
              "      } catch (error) {\n",
              "        console.error('Error during call to suggestCharts:', error);\n",
              "      }\n",
              "      quickchartButtonEl.classList.remove('colab-df-spinner');\n",
              "      quickchartButtonEl.classList.add('colab-df-quickchart-complete');\n",
              "    }\n",
              "    (() => {\n",
              "      let quickchartButtonEl =\n",
              "        document.querySelector('#df-ba844f08-72ae-4e4c-97d6-e9e217777a28 button');\n",
              "      quickchartButtonEl.style.display =\n",
              "        google.colab.kernel.accessAllowed ? 'block' : 'none';\n",
              "    })();\n",
              "  </script>\n",
              "</div>\n",
              "    </div>\n",
              "  </div>\n"
            ]
          },
          "metadata": {},
          "execution_count": 63
        }
      ]
    },
    {
      "cell_type": "code",
      "source": [
        "X_train, X_test, y_train, y_test = train_test_split(X_pad, y_rn, test_size=0.33, random_state=42)"
      ],
      "metadata": {
        "id": "uwZ1_IOS0Ssn"
      },
      "execution_count": 64,
      "outputs": []
    },
    {
      "cell_type": "code",
      "source": [
        "embedding_layer = Embedding(len(vocabulary) + 1,\n",
        "                            128,\n",
        "    input_length=max_url_len,\n",
        "    trainable=False)\n",
        "\n",
        "descriptions = Input(shape=(max_url_len,), dtype='int32')\n",
        "\n",
        "embedded_sequences= embedding_layer(descriptions)\n",
        "embedded_sequences = BatchNormalization()(embedded_sequences)\n",
        "embedded_sequences = SpatialDropout1D(0.3)(embedded_sequences)\n",
        "\n",
        "x = Bidirectional(LSTM(64, return_sequences=True,kernel_initializer='glorot_uniform'))(embedded_sequences) #CuDNNLSTM\n",
        "x = GlobalMaxPool1D()(x)\n",
        "x = Dropout(0.3)(x)\n",
        "\n",
        "x = Dense(32, activation='relu')(x)\n",
        "x = Dropout(0.3)(x)\n",
        "\n",
        "preds = Dense(1,activation='sigmoid')(x)\n",
        "\n",
        "model = Model(inputs=descriptions,outputs=preds)\n",
        "model.compile(loss='binary_crossentropy', optimizer='adam', metrics=['accuracy'])\n",
        "model.summary()"
      ],
      "metadata": {
        "colab": {
          "base_uri": "https://localhost:8080/"
        },
        "id": "7-ZbyV1t0hB2",
        "outputId": "bec5e632-1343-4b25-a91e-e6436e290123"
      },
      "execution_count": 68,
      "outputs": [
        {
          "output_type": "stream",
          "name": "stdout",
          "text": [
            "Model: \"model_1\"\n",
            "_________________________________________________________________\n",
            " Layer (type)                Output Shape              Param #   \n",
            "=================================================================\n",
            " input_3 (InputLayer)        [(None, 300)]             0         \n",
            "                                                                 \n",
            " embedding_2 (Embedding)     (None, 300, 128)          7296      \n",
            "                                                                 \n",
            " batch_normalization_2 (Bat  (None, 300, 128)          512       \n",
            " chNormalization)                                                \n",
            "                                                                 \n",
            " spatial_dropout1d_2 (Spati  (None, 300, 128)          0         \n",
            " alDropout1D)                                                    \n",
            "                                                                 \n",
            " bidirectional_1 (Bidirecti  (None, 300, 128)          98816     \n",
            " onal)                                                           \n",
            "                                                                 \n",
            " global_max_pooling1d_1 (Gl  (None, 128)               0         \n",
            " obalMaxPooling1D)                                               \n",
            "                                                                 \n",
            " dropout_2 (Dropout)         (None, 128)               0         \n",
            "                                                                 \n",
            " dense_2 (Dense)             (None, 32)                4128      \n",
            "                                                                 \n",
            " dropout_3 (Dropout)         (None, 32)                0         \n",
            "                                                                 \n",
            " dense_3 (Dense)             (None, 1)                 33        \n",
            "                                                                 \n",
            "=================================================================\n",
            "Total params: 110785 (432.75 KB)\n",
            "Trainable params: 103233 (403.25 KB)\n",
            "Non-trainable params: 7552 (29.50 KB)\n",
            "_________________________________________________________________\n"
          ]
        }
      ]
    },
    {
      "cell_type": "code",
      "source": [
        "early_stopping =EarlyStopping(monitor='val_loss', patience=3, mode=\"min\", verbose=1)\n",
        "learning_rate_reduction = ReduceLROnPlateau(monitor='val_accuracy',\n",
        "                                            patience=3,\n",
        "                                            verbose=1,\n",
        "                                            factor=0.5,\n",
        "                                            min_lr=0.00001)"
      ],
      "metadata": {
        "id": "fCljnU4r0kls"
      },
      "execution_count": 69,
      "outputs": []
    },
    {
      "cell_type": "code",
      "source": [
        "diccionario = {}\n",
        "for col in y_rn.columns.to_list():\n",
        "  diccionario[col] = None #Crear diccionario donde se guardara toda la solucion\n",
        "\n",
        "for col in y_rn.columns.to_list():\n",
        "\n",
        "  print(\"\\n\")\n",
        "  print(\"-\"*100)\n",
        "  print(f\"MODELO PARA LA {col}\")\n",
        "  print(\"-\"*100)\n",
        "  print(\"\\n\")\n",
        "\n",
        "  # creando una instancia de SMOTE\n",
        "  smote = SMOTE()\n",
        "\n",
        "  # aplicando SMOTE a los datos\n",
        "  if col != 'col16':\n",
        "    X_resampled, y_resampled = smote.fit_resample(X_train, y_train[col])\n",
        "  else:\n",
        "    X_resampled, y_resampled = (X_train.copy(), y_train[col].copy())\n",
        "\n",
        "  model.fit(X_resampled, y_resampled, validation_data=(X_test, y_test[col]), epochs=3, batch_size=64, verbose=0)\n",
        "  y_predict_n = model.predict(X_test)\n",
        "  y_pred = np.argmax(y_predict_n, axis = 1) #Pasa a 1 y 0\n",
        "  diccionario[col] = y_pred\n",
        "  print(f\"Finaliza iteracion para la columna {col} \\u2713\")"
      ],
      "metadata": {
        "colab": {
          "base_uri": "https://localhost:8080/"
        },
        "id": "9xjEtOe60sRc",
        "outputId": "6305dc4d-cc8d-4764-8b9d-af94276d458e"
      },
      "execution_count": 86,
      "outputs": [
        {
          "output_type": "stream",
          "name": "stdout",
          "text": [
            "\n",
            "\n",
            "----------------------------------------------------------------------------------------------------\n",
            "MODELO PARA LA col0\n",
            "----------------------------------------------------------------------------------------------------\n",
            "\n",
            "\n",
            "82/82 [==============================] - 9s 116ms/step\n",
            "Finaliza iteracion para la columna col0 ✓\n",
            "\n",
            "\n",
            "----------------------------------------------------------------------------------------------------\n",
            "MODELO PARA LA col1\n",
            "----------------------------------------------------------------------------------------------------\n",
            "\n",
            "\n",
            "82/82 [==============================] - 9s 107ms/step\n",
            "Finaliza iteracion para la columna col1 ✓\n",
            "\n",
            "\n",
            "----------------------------------------------------------------------------------------------------\n",
            "MODELO PARA LA col2\n",
            "----------------------------------------------------------------------------------------------------\n",
            "\n",
            "\n",
            "82/82 [==============================] - 9s 115ms/step\n",
            "Finaliza iteracion para la columna col2 ✓\n",
            "\n",
            "\n",
            "----------------------------------------------------------------------------------------------------\n",
            "MODELO PARA LA col3\n",
            "----------------------------------------------------------------------------------------------------\n",
            "\n",
            "\n",
            "82/82 [==============================] - 8s 99ms/step\n",
            "Finaliza iteracion para la columna col3 ✓\n",
            "\n",
            "\n",
            "----------------------------------------------------------------------------------------------------\n",
            "MODELO PARA LA col4\n",
            "----------------------------------------------------------------------------------------------------\n",
            "\n",
            "\n",
            "82/82 [==============================] - 8s 98ms/step\n",
            "Finaliza iteracion para la columna col4 ✓\n",
            "\n",
            "\n",
            "----------------------------------------------------------------------------------------------------\n",
            "MODELO PARA LA col5\n",
            "----------------------------------------------------------------------------------------------------\n",
            "\n",
            "\n",
            "82/82 [==============================] - 8s 98ms/step\n",
            "Finaliza iteracion para la columna col5 ✓\n",
            "\n",
            "\n",
            "----------------------------------------------------------------------------------------------------\n",
            "MODELO PARA LA col6\n",
            "----------------------------------------------------------------------------------------------------\n",
            "\n",
            "\n",
            "82/82 [==============================] - 10s 117ms/step\n",
            "Finaliza iteracion para la columna col6 ✓\n",
            "\n",
            "\n",
            "----------------------------------------------------------------------------------------------------\n",
            "MODELO PARA LA col7\n",
            "----------------------------------------------------------------------------------------------------\n",
            "\n",
            "\n",
            "82/82 [==============================] - 9s 104ms/step\n",
            "Finaliza iteracion para la columna col7 ✓\n",
            "\n",
            "\n",
            "----------------------------------------------------------------------------------------------------\n",
            "MODELO PARA LA col8\n",
            "----------------------------------------------------------------------------------------------------\n",
            "\n",
            "\n",
            "82/82 [==============================] - 9s 104ms/step\n",
            "Finaliza iteracion para la columna col8 ✓\n",
            "\n",
            "\n",
            "----------------------------------------------------------------------------------------------------\n",
            "MODELO PARA LA col9\n",
            "----------------------------------------------------------------------------------------------------\n",
            "\n",
            "\n",
            "82/82 [==============================] - 8s 103ms/step\n",
            "Finaliza iteracion para la columna col9 ✓\n",
            "\n",
            "\n",
            "----------------------------------------------------------------------------------------------------\n",
            "MODELO PARA LA col10\n",
            "----------------------------------------------------------------------------------------------------\n",
            "\n",
            "\n",
            "82/82 [==============================] - 10s 118ms/step\n",
            "Finaliza iteracion para la columna col10 ✓\n",
            "\n",
            "\n",
            "----------------------------------------------------------------------------------------------------\n",
            "MODELO PARA LA col11\n",
            "----------------------------------------------------------------------------------------------------\n",
            "\n",
            "\n",
            "82/82 [==============================] - 8s 101ms/step\n",
            "Finaliza iteracion para la columna col11 ✓\n",
            "\n",
            "\n",
            "----------------------------------------------------------------------------------------------------\n",
            "MODELO PARA LA col12\n",
            "----------------------------------------------------------------------------------------------------\n",
            "\n",
            "\n",
            "82/82 [==============================] - 9s 116ms/step\n",
            "Finaliza iteracion para la columna col12 ✓\n",
            "\n",
            "\n",
            "----------------------------------------------------------------------------------------------------\n",
            "MODELO PARA LA col13\n",
            "----------------------------------------------------------------------------------------------------\n",
            "\n",
            "\n",
            "82/82 [==============================] - 8s 99ms/step\n",
            "Finaliza iteracion para la columna col13 ✓\n",
            "\n",
            "\n",
            "----------------------------------------------------------------------------------------------------\n",
            "MODELO PARA LA col14\n",
            "----------------------------------------------------------------------------------------------------\n",
            "\n",
            "\n",
            "82/82 [==============================] - 9s 116ms/step\n",
            "Finaliza iteracion para la columna col14 ✓\n",
            "\n",
            "\n",
            "----------------------------------------------------------------------------------------------------\n",
            "MODELO PARA LA col15\n",
            "----------------------------------------------------------------------------------------------------\n",
            "\n",
            "\n",
            "82/82 [==============================] - 10s 117ms/step\n",
            "Finaliza iteracion para la columna col15 ✓\n",
            "\n",
            "\n",
            "----------------------------------------------------------------------------------------------------\n",
            "MODELO PARA LA col16\n",
            "----------------------------------------------------------------------------------------------------\n",
            "\n",
            "\n",
            "82/82 [==============================] - 10s 117ms/step\n",
            "Finaliza iteracion para la columna col16 ✓\n",
            "\n",
            "\n",
            "----------------------------------------------------------------------------------------------------\n",
            "MODELO PARA LA col17\n",
            "----------------------------------------------------------------------------------------------------\n",
            "\n",
            "\n",
            "82/82 [==============================] - 10s 123ms/step\n",
            "Finaliza iteracion para la columna col17 ✓\n",
            "\n",
            "\n",
            "----------------------------------------------------------------------------------------------------\n",
            "MODELO PARA LA col18\n",
            "----------------------------------------------------------------------------------------------------\n",
            "\n",
            "\n",
            "82/82 [==============================] - 8s 102ms/step\n",
            "Finaliza iteracion para la columna col18 ✓\n",
            "\n",
            "\n",
            "----------------------------------------------------------------------------------------------------\n",
            "MODELO PARA LA col19\n",
            "----------------------------------------------------------------------------------------------------\n",
            "\n",
            "\n",
            "82/82 [==============================] - 9s 115ms/step\n",
            "Finaliza iteracion para la columna col19 ✓\n",
            "\n",
            "\n",
            "----------------------------------------------------------------------------------------------------\n",
            "MODELO PARA LA col20\n",
            "----------------------------------------------------------------------------------------------------\n",
            "\n",
            "\n",
            "82/82 [==============================] - 8s 102ms/step\n",
            "Finaliza iteracion para la columna col20 ✓\n",
            "\n",
            "\n",
            "----------------------------------------------------------------------------------------------------\n",
            "MODELO PARA LA col21\n",
            "----------------------------------------------------------------------------------------------------\n",
            "\n",
            "\n",
            "82/82 [==============================] - 8s 99ms/step\n",
            "Finaliza iteracion para la columna col21 ✓\n",
            "\n",
            "\n",
            "----------------------------------------------------------------------------------------------------\n",
            "MODELO PARA LA col22\n",
            "----------------------------------------------------------------------------------------------------\n",
            "\n",
            "\n",
            "82/82 [==============================] - 9s 115ms/step\n",
            "Finaliza iteracion para la columna col22 ✓\n",
            "\n",
            "\n",
            "----------------------------------------------------------------------------------------------------\n",
            "MODELO PARA LA col23\n",
            "----------------------------------------------------------------------------------------------------\n",
            "\n",
            "\n",
            "82/82 [==============================] - 9s 105ms/step\n",
            "Finaliza iteracion para la columna col23 ✓\n"
          ]
        }
      ]
    },
    {
      "cell_type": "code",
      "source": [
        "resultado_rn=pd.DataFrame(diccionario)"
      ],
      "metadata": {
        "id": "oz8iG7Mr1Hy4"
      },
      "execution_count": 87,
      "outputs": []
    },
    {
      "cell_type": "code",
      "source": [
        "roc_auc_score(y_test.values, resultado_rn.values, average='macro')"
      ],
      "metadata": {
        "colab": {
          "base_uri": "https://localhost:8080/"
        },
        "id": "XbDRRs5nTHhL",
        "outputId": "4fdb35c5-a0e7-4bc2-a94e-126aa6cac718"
      },
      "execution_count": 88,
      "outputs": [
        {
          "output_type": "execute_result",
          "data": {
            "text/plain": [
              "0.5"
            ]
          },
          "metadata": {},
          "execution_count": 88
        }
      ]
    },
    {
      "cell_type": "markdown",
      "source": [
        "### *Version 2*"
      ],
      "metadata": {
        "id": "HYgh2AIgT2ld"
      }
    },
    {
      "cell_type": "code",
      "source": [
        "X_train, X_test, y_train, y_test = train_test_split(X_pad, y_genres, test_size=0.33, random_state=42)"
      ],
      "metadata": {
        "id": "ln9X7Xa4UAdd"
      },
      "execution_count": 89,
      "outputs": []
    },
    {
      "cell_type": "code",
      "source": [
        "model = Sequential()\n",
        "model.add(Embedding(len(vocabulary) + 1, 128, input_length=max_url_len))\n",
        "model.add(SpatialDropout1D(0.2))\n",
        "model.add(Bidirectional(LSTM(128,return_sequences=True)))\n",
        "model.add(Dropout(0.3))\n",
        "model.add(BatchNormalization())\n",
        "model.add(Bidirectional(LSTM(128)))\n",
        "model.add(Dropout(0.3))\n",
        "model.add(BatchNormalization())\n",
        "\n",
        "model.add(Dense(64,activation='relu'))\n",
        "model.add(Dense(32,activation='relu'))\n",
        "model.add(Dense(24, activation = \"softmax\"))\n",
        "model.compile(loss='categorical_crossentropy', optimizer='adam', metrics=['accuracy'])\n",
        "\n",
        "model.summary()"
      ],
      "metadata": {
        "colab": {
          "base_uri": "https://localhost:8080/"
        },
        "id": "x0zf2pS3T4pq",
        "outputId": "05ab1a31-9334-4f32-acad-a7683e5e7cc0"
      },
      "execution_count": 92,
      "outputs": [
        {
          "output_type": "stream",
          "name": "stdout",
          "text": [
            "Model: \"sequential\"\n",
            "_________________________________________________________________\n",
            " Layer (type)                Output Shape              Param #   \n",
            "=================================================================\n",
            " embedding_3 (Embedding)     (None, 300, 128)          7296      \n",
            "                                                                 \n",
            " spatial_dropout1d_3 (Spati  (None, 300, 128)          0         \n",
            " alDropout1D)                                                    \n",
            "                                                                 \n",
            " bidirectional_2 (Bidirecti  (None, 300, 256)          263168    \n",
            " onal)                                                           \n",
            "                                                                 \n",
            " dropout_4 (Dropout)         (None, 300, 256)          0         \n",
            "                                                                 \n",
            " batch_normalization_3 (Bat  (None, 300, 256)          1024      \n",
            " chNormalization)                                                \n",
            "                                                                 \n",
            " bidirectional_3 (Bidirecti  (None, 256)               394240    \n",
            " onal)                                                           \n",
            "                                                                 \n",
            " dropout_5 (Dropout)         (None, 256)               0         \n",
            "                                                                 \n",
            " batch_normalization_4 (Bat  (None, 256)               1024      \n",
            " chNormalization)                                                \n",
            "                                                                 \n",
            " dense_4 (Dense)             (None, 64)                16448     \n",
            "                                                                 \n",
            " dense_5 (Dense)             (None, 32)                2080      \n",
            "                                                                 \n",
            " dense_6 (Dense)             (None, 24)                792       \n",
            "                                                                 \n",
            "=================================================================\n",
            "Total params: 686072 (2.62 MB)\n",
            "Trainable params: 685048 (2.61 MB)\n",
            "Non-trainable params: 1024 (4.00 KB)\n",
            "_________________________________________________________________\n"
          ]
        }
      ]
    },
    {
      "cell_type": "code",
      "source": [
        "model.fit(X_train, y_train, validation_data=[X_test, y_test],\n",
        "          batch_size=128, epochs=10)"
      ],
      "metadata": {
        "colab": {
          "base_uri": "https://localhost:8080/"
        },
        "id": "tZQG0SrVUBab",
        "outputId": "b31a5586-4efc-47e1-c722-a460e895db23"
      },
      "execution_count": 94,
      "outputs": [
        {
          "output_type": "stream",
          "name": "stdout",
          "text": [
            "Epoch 1/10\n",
            "42/42 [==============================] - 368s 6s/step - loss: 9.8247 - accuracy: 0.1117 - val_loss: 7.9637 - val_accuracy: 0.1926\n",
            "Epoch 2/10\n",
            "42/42 [==============================] - 256s 6s/step - loss: 21.7308 - accuracy: 0.2010 - val_loss: 21.2409 - val_accuracy: 0.2375\n",
            "Epoch 3/10\n",
            "42/42 [==============================] - 257s 6s/step - loss: 47.1462 - accuracy: 0.1925 - val_loss: 49.8149 - val_accuracy: 0.1289\n",
            "Epoch 4/10\n",
            "42/42 [==============================] - 259s 6s/step - loss: 103.5964 - accuracy: 0.1367 - val_loss: 65.8165 - val_accuracy: 0.0652\n",
            "Epoch 5/10\n",
            "42/42 [==============================] - 254s 6s/step - loss: 230.7868 - accuracy: 0.1180 - val_loss: 310.5280 - val_accuracy: 0.2183\n",
            "Epoch 6/10\n",
            "42/42 [==============================] - 256s 6s/step - loss: 472.6751 - accuracy: 0.1297 - val_loss: 527.6988 - val_accuracy: 0.0100\n",
            "Epoch 7/10\n",
            "42/42 [==============================] - 256s 6s/step - loss: 818.9449 - accuracy: 0.1363 - val_loss: 948.7864 - val_accuracy: 0.1485\n",
            "Epoch 8/10\n",
            "42/42 [==============================] - 255s 6s/step - loss: 1189.0137 - accuracy: 0.1363 - val_loss: 1133.4485 - val_accuracy: 0.1922\n",
            "Epoch 9/10\n",
            "42/42 [==============================] - 254s 6s/step - loss: 1982.9021 - accuracy: 0.1174 - val_loss: 2370.3059 - val_accuracy: 0.0215\n",
            "Epoch 10/10\n",
            "42/42 [==============================] - 254s 6s/step - loss: 3048.4219 - accuracy: 0.1348 - val_loss: 3725.6851 - val_accuracy: 0.0756\n"
          ]
        },
        {
          "output_type": "execute_result",
          "data": {
            "text/plain": [
              "<keras.src.callbacks.History at 0x7ecb853870d0>"
            ]
          },
          "metadata": {},
          "execution_count": 94
        }
      ]
    },
    {
      "cell_type": "code",
      "source": [
        "y_pred_lstm=model.predict(X_test)"
      ],
      "metadata": {
        "colab": {
          "base_uri": "https://localhost:8080/"
        },
        "id": "RBbnnXAZUKlR",
        "outputId": "470ef5f6-2f05-456f-9406-7f2f9329f28e"
      },
      "execution_count": 95,
      "outputs": [
        {
          "output_type": "stream",
          "name": "stdout",
          "text": [
            "82/82 [==============================] - 56s 669ms/step\n"
          ]
        }
      ]
    },
    {
      "cell_type": "code",
      "source": [
        "roc_auc_score(y_test, y_pred_lstm, average='macro')"
      ],
      "metadata": {
        "colab": {
          "base_uri": "https://localhost:8080/"
        },
        "id": "-KwqkhJEUMuz",
        "outputId": "4b6958cb-a498-4fc5-de2b-24a8cd91410e"
      },
      "execution_count": 96,
      "outputs": [
        {
          "output_type": "execute_result",
          "data": {
            "text/plain": [
              "0.5019285808541188"
            ]
          },
          "metadata": {},
          "execution_count": 96
        }
      ]
    },
    {
      "cell_type": "markdown",
      "source": [
        "## ***GRU***"
      ],
      "metadata": {
        "id": "xyTgU4dAE77M"
      }
    },
    {
      "cell_type": "code",
      "source": [
        "import numpy as np\n",
        "import tensorflow as tf\n",
        "from tensorflow.keras.models import Sequential\n",
        "from tensorflow.keras.layers import Bidirectional,Embedding, GRU, Dense\n",
        "import tensorflow.keras.layers\n",
        "from keras.utils import pad_sequences"
      ],
      "metadata": {
        "id": "XPjl9bcwQiJH"
      },
      "execution_count": null,
      "outputs": []
    },
    {
      "cell_type": "code",
      "source": [
        "X = data_modificada.tolist()\n",
        "# For vocabulary only the intersec characters is used to avoid issues with data collection\n",
        "voc = set(''.join(X))\n",
        "vocabulary = {x: idx + 1 for idx, x in enumerate(set(voc))}\n",
        "# Max len\n",
        "max_url_len = 300\n",
        "X = [x[:max_url_len] for x in X]\n",
        "# Convert characters to int and pad\n",
        "X = [[vocabulary[x1] for x1 in x if x1 in vocabulary.keys()] for x in X]\n",
        "X_pad2 = pad_sequences(X, maxlen=max_url_len)"
      ],
      "metadata": {
        "id": "GVkEuLoMQuEn"
      },
      "execution_count": null,
      "outputs": []
    },
    {
      "cell_type": "code",
      "source": [
        "X_train_GRU, X_test_GRU, y_train, y_test = train_test_split(X_pad2, y_genres, test_size=0.33, random_state=42)"
      ],
      "metadata": {
        "id": "1aqwSN7TQ7ym"
      },
      "execution_count": null,
      "outputs": []
    },
    {
      "cell_type": "code",
      "source": [
        "#Red GRU\n",
        "\n",
        "model = Sequential()\n",
        "model.add(Embedding(len(vocabulary) + 1, 128, input_length=max_url_len))\n",
        "model.add(Bidirectional(GRU(64)))\n",
        "model.add(Dense(24, activation='softmax'))\n",
        "\n",
        "model.compile(loss='categorical_crossentropy', optimizer='adam', metrics=['accuracy'])\n",
        "\n",
        "model.summary()"
      ],
      "metadata": {
        "colab": {
          "base_uri": "https://localhost:8080/"
        },
        "id": "UpxHg_ZNREou",
        "outputId": "81547f5a-c9c2-4f3d-e034-4bdfe02ee0dd"
      },
      "execution_count": null,
      "outputs": [
        {
          "output_type": "stream",
          "name": "stdout",
          "text": [
            "Model: \"sequential_1\"\n",
            "_________________________________________________________________\n",
            " Layer (type)                Output Shape              Param #   \n",
            "=================================================================\n",
            " embedding_1 (Embedding)     (None, 300, 128)          7296      \n",
            "                                                                 \n",
            " bidirectional (Bidirection  (None, 128)               74496     \n",
            " al)                                                             \n",
            "                                                                 \n",
            " dense (Dense)               (None, 24)                3096      \n",
            "                                                                 \n",
            "=================================================================\n",
            "Total params: 84888 (331.59 KB)\n",
            "Trainable params: 84888 (331.59 KB)\n",
            "Non-trainable params: 0 (0.00 Byte)\n",
            "_________________________________________________________________\n"
          ]
        }
      ]
    },
    {
      "cell_type": "code",
      "source": [
        "# Entrenar modelo\n",
        "model.fit(X_train_GRU, y_train, epochs=10, batch_size=64, validation_data=(X_test_GRU, y_test))"
      ],
      "metadata": {
        "colab": {
          "base_uri": "https://localhost:8080/"
        },
        "id": "iNO37jBORf8A",
        "outputId": "780aa964-6e72-4bef-834d-77e1591b569e"
      },
      "execution_count": null,
      "outputs": [
        {
          "output_type": "stream",
          "name": "stdout",
          "text": [
            "Epoch 1/10\n",
            "83/83 [==============================] - 36s 428ms/step - loss: 24.7688 - accuracy: 0.2002 - val_loss: 26.0887 - val_accuracy: 0.1926\n",
            "Epoch 2/10\n",
            "83/83 [==============================] - 36s 435ms/step - loss: 25.2284 - accuracy: 0.2002 - val_loss: 26.5214 - val_accuracy: 0.1926\n",
            "Epoch 3/10\n",
            "83/83 [==============================] - 40s 483ms/step - loss: 25.6767 - accuracy: 0.2002 - val_loss: 27.1421 - val_accuracy: 0.1926\n",
            "Epoch 4/10\n",
            "83/83 [==============================] - 36s 441ms/step - loss: 26.2548 - accuracy: 0.2002 - val_loss: 27.7069 - val_accuracy: 0.1926\n",
            "Epoch 5/10\n",
            "83/83 [==============================] - 37s 443ms/step - loss: 26.7837 - accuracy: 0.2002 - val_loss: 28.1520 - val_accuracy: 0.1926\n",
            "Epoch 6/10\n",
            "83/83 [==============================] - 37s 451ms/step - loss: 27.1890 - accuracy: 0.2002 - val_loss: 28.6548 - val_accuracy: 0.1926\n",
            "Epoch 7/10\n",
            "83/83 [==============================] - 36s 426ms/step - loss: 27.8126 - accuracy: 0.2002 - val_loss: 29.2739 - val_accuracy: 0.1926\n",
            "Epoch 8/10\n",
            "83/83 [==============================] - 36s 437ms/step - loss: 28.2302 - accuracy: 0.2002 - val_loss: 29.8628 - val_accuracy: 0.1926\n",
            "Epoch 9/10\n",
            "83/83 [==============================] - 36s 430ms/step - loss: 28.7325 - accuracy: 0.2002 - val_loss: 30.4013 - val_accuracy: 0.1926\n",
            "Epoch 10/10\n",
            "83/83 [==============================] - 35s 424ms/step - loss: 29.1959 - accuracy: 0.2002 - val_loss: 30.9764 - val_accuracy: 0.1926\n"
          ]
        },
        {
          "output_type": "execute_result",
          "data": {
            "text/plain": [
              "<keras.src.callbacks.History at 0x7ff03eb8e380>"
            ]
          },
          "metadata": {},
          "execution_count": 47
        }
      ]
    },
    {
      "cell_type": "code",
      "source": [
        "y_pred_GRU=model.predict(X_test_GRU)"
      ],
      "metadata": {
        "colab": {
          "base_uri": "https://localhost:8080/"
        },
        "id": "O2Yxc2HGRkUe",
        "outputId": "83f24aee-2c13-46c5-c4ba-725247eaf284"
      },
      "execution_count": null,
      "outputs": [
        {
          "output_type": "stream",
          "name": "stdout",
          "text": [
            "82/82 [==============================] - 3s 42ms/step\n"
          ]
        }
      ]
    },
    {
      "cell_type": "code",
      "source": [
        "roc_auc_score(y_test, y_pred_GRU, average='macro')"
      ],
      "metadata": {
        "colab": {
          "base_uri": "https://localhost:8080/"
        },
        "id": "4h2JNqbNRm7X",
        "outputId": "b01c5cea-20af-40e3-a1df-0583dc6209ec"
      },
      "execution_count": null,
      "outputs": [
        {
          "output_type": "execute_result",
          "data": {
            "text/plain": [
              "0.5041077344159332"
            ]
          },
          "metadata": {},
          "execution_count": 49
        }
      ]
    }
  ],
  "metadata": {
    "kernelspec": {
      "display_name": "Python 3",
      "language": "python",
      "name": "python3"
    },
    "language_info": {
      "codemirror_mode": {
        "name": "ipython",
        "version": 3
      },
      "file_extension": ".py",
      "mimetype": "text/x-python",
      "name": "python",
      "nbconvert_exporter": "python",
      "pygments_lexer": "ipython3",
      "version": "3.7.4"
    },
    "colab": {
      "provenance": [],
      "collapsed_sections": [
        "VC9WLyERnx_s",
        "Pkrx0Tvwm7qC",
        "wgGLbBE9tx-E",
        "r0l3HRpBmnwt",
        "KjRCAVQ4wO98",
        "bivyivY_tO03",
        "fP_6_mB9qi1i",
        "p0Ia-Neg-cww",
        "nE1vpQR8_trf",
        "Gq3d8mS7s03R",
        "Y54h31kCEsUa",
        "8cqoapoZEuce",
        "OKdm5dV2E2da",
        "Lavr_xDZrjCH",
        "aWY0Czg8rnMA",
        "g-gkfDcBE5oh",
        "5GiSfSGGUZZu",
        "Bfof2fG-UcF2",
        "HYgh2AIgT2ld",
        "xyTgU4dAE77M"
      ]
    }
  },
  "nbformat": 4,
  "nbformat_minor": 0
}